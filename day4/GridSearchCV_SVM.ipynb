{
 "cells": [
  {
   "cell_type": "code",
   "execution_count": 29,
   "metadata": {},
   "outputs": [
    {
     "name": "stdout",
     "output_type": "stream",
     "text": [
      "Wall time: 2.46 s\n"
     ]
    }
   ],
   "source": [
    "from sklearn.model_selection import GridSearchCV\n",
    "from sklearn.pipeline import Pipeline\n",
    "from sklearn.preprocessing import StandardScaler\n",
    "from sklearn.svm import SVC\n",
    "from sklearn.datasets import load_iris\n",
    "iris = load_iris()\n",
    "\n",
    "pipe_svc = Pipeline([('scl', StandardScaler()), ('clf', SVC(random_state=1))])\n",
    "\n",
    "param_range = [0.0001, 0.001, 0.01, 0.1, 1.0, 10.0, 100.0, 1000.0]\n",
    "param_grid = [\n",
    "    {'clf__C': param_range, 'clf__kernel': ['linear']},\n",
    "    {'clf__C': param_range, 'clf__gamma': param_range, 'clf__kernel': ['rbf']}]\n",
    "\n",
    "gs = GridSearchCV(estimator=pipe_svc, param_grid=param_grid,\n",
    "                  scoring='accuracy', cv=10, n_jobs=1)\n",
    "%time gs = gs.fit(iris.data, iris.target)"
   ]
  },
  {
   "cell_type": "code",
   "execution_count": 30,
   "metadata": {},
   "outputs": [
    {
     "data": {
      "text/plain": [
       "GridSearchCV(cv=10, error_score='raise',\n",
       "       estimator=Pipeline(memory=None,\n",
       "     steps=[('scl', StandardScaler(copy=True, with_mean=True, with_std=True)), ('clf', SVC(C=1.0, cache_size=200, class_weight=None, coef0=0.0,\n",
       "  decision_function_shape='ovr', degree=3, gamma='auto', kernel='rbf',\n",
       "  max_iter=-1, probability=False, random_state=1, shrinking=True,\n",
       "  tol=0.001, verbose=False))]),\n",
       "       fit_params=None, iid=True, n_jobs=1,\n",
       "       param_grid=[{'clf__C': [0.0001, 0.001, 0.01, 0.1, 1.0, 10.0, 100.0, 1000.0], 'clf__kernel': ['linear']}, {'clf__C': [0.0001, 0.001, 0.01, 0.1, 1.0, 10.0, 100.0, 1000.0], 'clf__gamma': [0.0001, 0.001, 0.01, 0.1, 1.0, 10.0, 100.0, 1000.0], 'clf__kernel': ['rbf']}],\n",
       "       pre_dispatch='2*n_jobs', refit=True, return_train_score='warn',\n",
       "       scoring='accuracy', verbose=0)"
      ]
     },
     "execution_count": 30,
     "metadata": {},
     "output_type": "execute_result"
    }
   ],
   "source": [
    "gs"
   ]
  },
  {
   "cell_type": "code",
   "execution_count": 31,
   "metadata": {},
   "outputs": [
    {
     "name": "stderr",
     "output_type": "stream",
     "text": [
      "c:\\python36\\lib\\site-packages\\sklearn\\model_selection\\_search.py:761: DeprecationWarning: The grid_scores_ attribute was deprecated in version 0.18 in favor of the more elaborate cv_results_ attribute. The grid_scores_ attribute will not be available from 0.20\n",
      "  DeprecationWarning)\n"
     ]
    },
    {
     "data": {
      "text/plain": [
       "[mean: 0.86000, std: 0.05538, params: {'clf__C': 0.0001, 'clf__kernel': 'linear'},\n",
       " mean: 0.86000, std: 0.05538, params: {'clf__C': 0.001, 'clf__kernel': 'linear'},\n",
       " mean: 0.89333, std: 0.06799, params: {'clf__C': 0.01, 'clf__kernel': 'linear'},\n",
       " mean: 0.97333, std: 0.04422, params: {'clf__C': 0.1, 'clf__kernel': 'linear'},\n",
       " mean: 0.97333, std: 0.05333, params: {'clf__C': 1.0, 'clf__kernel': 'linear'},\n",
       " mean: 0.96000, std: 0.05333, params: {'clf__C': 10.0, 'clf__kernel': 'linear'},\n",
       " mean: 0.97333, std: 0.04422, params: {'clf__C': 100.0, 'clf__kernel': 'linear'},\n",
       " mean: 0.97333, std: 0.06110, params: {'clf__C': 1000.0, 'clf__kernel': 'linear'},\n",
       " mean: 0.86000, std: 0.05538, params: {'clf__C': 0.0001, 'clf__gamma': 0.0001, 'clf__kernel': 'rbf'},\n",
       " mean: 0.86000, std: 0.05538, params: {'clf__C': 0.0001, 'clf__gamma': 0.001, 'clf__kernel': 'rbf'},\n",
       " mean: 0.86000, std: 0.05538, params: {'clf__C': 0.0001, 'clf__gamma': 0.01, 'clf__kernel': 'rbf'},\n",
       " mean: 0.86000, std: 0.05538, params: {'clf__C': 0.0001, 'clf__gamma': 0.1, 'clf__kernel': 'rbf'},\n",
       " mean: 0.93333, std: 0.05164, params: {'clf__C': 0.0001, 'clf__gamma': 1.0, 'clf__kernel': 'rbf'},\n",
       " mean: 0.78000, std: 0.08969, params: {'clf__C': 0.0001, 'clf__gamma': 10.0, 'clf__kernel': 'rbf'},\n",
       " mean: 0.37333, std: 0.04422, params: {'clf__C': 0.0001, 'clf__gamma': 100.0, 'clf__kernel': 'rbf'},\n",
       " mean: 0.36667, std: 0.03333, params: {'clf__C': 0.0001, 'clf__gamma': 1000.0, 'clf__kernel': 'rbf'},\n",
       " mean: 0.86000, std: 0.05538, params: {'clf__C': 0.001, 'clf__gamma': 0.0001, 'clf__kernel': 'rbf'},\n",
       " mean: 0.86000, std: 0.05538, params: {'clf__C': 0.001, 'clf__gamma': 0.001, 'clf__kernel': 'rbf'},\n",
       " mean: 0.86000, std: 0.05538, params: {'clf__C': 0.001, 'clf__gamma': 0.01, 'clf__kernel': 'rbf'},\n",
       " mean: 0.86000, std: 0.05538, params: {'clf__C': 0.001, 'clf__gamma': 0.1, 'clf__kernel': 'rbf'},\n",
       " mean: 0.93333, std: 0.05164, params: {'clf__C': 0.001, 'clf__gamma': 1.0, 'clf__kernel': 'rbf'},\n",
       " mean: 0.78000, std: 0.08969, params: {'clf__C': 0.001, 'clf__gamma': 10.0, 'clf__kernel': 'rbf'},\n",
       " mean: 0.37333, std: 0.04422, params: {'clf__C': 0.001, 'clf__gamma': 100.0, 'clf__kernel': 'rbf'},\n",
       " mean: 0.36667, std: 0.03333, params: {'clf__C': 0.001, 'clf__gamma': 1000.0, 'clf__kernel': 'rbf'},\n",
       " mean: 0.86000, std: 0.05538, params: {'clf__C': 0.01, 'clf__gamma': 0.0001, 'clf__kernel': 'rbf'},\n",
       " mean: 0.86000, std: 0.05538, params: {'clf__C': 0.01, 'clf__gamma': 0.001, 'clf__kernel': 'rbf'},\n",
       " mean: 0.86000, std: 0.05538, params: {'clf__C': 0.01, 'clf__gamma': 0.01, 'clf__kernel': 'rbf'},\n",
       " mean: 0.86000, std: 0.05538, params: {'clf__C': 0.01, 'clf__gamma': 0.1, 'clf__kernel': 'rbf'},\n",
       " mean: 0.93333, std: 0.05164, params: {'clf__C': 0.01, 'clf__gamma': 1.0, 'clf__kernel': 'rbf'},\n",
       " mean: 0.78000, std: 0.08969, params: {'clf__C': 0.01, 'clf__gamma': 10.0, 'clf__kernel': 'rbf'},\n",
       " mean: 0.37333, std: 0.04422, params: {'clf__C': 0.01, 'clf__gamma': 100.0, 'clf__kernel': 'rbf'},\n",
       " mean: 0.36667, std: 0.03333, params: {'clf__C': 0.01, 'clf__gamma': 1000.0, 'clf__kernel': 'rbf'},\n",
       " mean: 0.86000, std: 0.05538, params: {'clf__C': 0.1, 'clf__gamma': 0.0001, 'clf__kernel': 'rbf'},\n",
       " mean: 0.86000, std: 0.05538, params: {'clf__C': 0.1, 'clf__gamma': 0.001, 'clf__kernel': 'rbf'},\n",
       " mean: 0.86000, std: 0.05538, params: {'clf__C': 0.1, 'clf__gamma': 0.01, 'clf__kernel': 'rbf'},\n",
       " mean: 0.90000, std: 0.05375, params: {'clf__C': 0.1, 'clf__gamma': 0.1, 'clf__kernel': 'rbf'},\n",
       " mean: 0.94000, std: 0.04667, params: {'clf__C': 0.1, 'clf__gamma': 1.0, 'clf__kernel': 'rbf'},\n",
       " mean: 0.78000, std: 0.08969, params: {'clf__C': 0.1, 'clf__gamma': 10.0, 'clf__kernel': 'rbf'},\n",
       " mean: 0.37333, std: 0.04422, params: {'clf__C': 0.1, 'clf__gamma': 100.0, 'clf__kernel': 'rbf'},\n",
       " mean: 0.36667, std: 0.03333, params: {'clf__C': 0.1, 'clf__gamma': 1000.0, 'clf__kernel': 'rbf'},\n",
       " mean: 0.86000, std: 0.05538, params: {'clf__C': 1.0, 'clf__gamma': 0.0001, 'clf__kernel': 'rbf'},\n",
       " mean: 0.86000, std: 0.05538, params: {'clf__C': 1.0, 'clf__gamma': 0.001, 'clf__kernel': 'rbf'},\n",
       " mean: 0.89333, std: 0.04422, params: {'clf__C': 1.0, 'clf__gamma': 0.01, 'clf__kernel': 'rbf'},\n",
       " mean: 0.98000, std: 0.04269, params: {'clf__C': 1.0, 'clf__gamma': 0.1, 'clf__kernel': 'rbf'},\n",
       " mean: 0.95333, std: 0.04269, params: {'clf__C': 1.0, 'clf__gamma': 1.0, 'clf__kernel': 'rbf'},\n",
       " mean: 0.91333, std: 0.09452, params: {'clf__C': 1.0, 'clf__gamma': 10.0, 'clf__kernel': 'rbf'},\n",
       " mean: 0.50667, std: 0.08000, params: {'clf__C': 1.0, 'clf__gamma': 100.0, 'clf__kernel': 'rbf'},\n",
       " mean: 0.36667, std: 0.03333, params: {'clf__C': 1.0, 'clf__gamma': 1000.0, 'clf__kernel': 'rbf'},\n",
       " mean: 0.86000, std: 0.05538, params: {'clf__C': 10.0, 'clf__gamma': 0.0001, 'clf__kernel': 'rbf'},\n",
       " mean: 0.89333, std: 0.04422, params: {'clf__C': 10.0, 'clf__gamma': 0.001, 'clf__kernel': 'rbf'},\n",
       " mean: 0.97333, std: 0.04422, params: {'clf__C': 10.0, 'clf__gamma': 0.01, 'clf__kernel': 'rbf'},\n",
       " mean: 0.96667, std: 0.05375, params: {'clf__C': 10.0, 'clf__gamma': 0.1, 'clf__kernel': 'rbf'},\n",
       " mean: 0.95333, std: 0.04269, params: {'clf__C': 10.0, 'clf__gamma': 1.0, 'clf__kernel': 'rbf'},\n",
       " mean: 0.91333, std: 0.09452, params: {'clf__C': 10.0, 'clf__gamma': 10.0, 'clf__kernel': 'rbf'},\n",
       " mean: 0.52667, std: 0.08138, params: {'clf__C': 10.0, 'clf__gamma': 100.0, 'clf__kernel': 'rbf'},\n",
       " mean: 0.36667, std: 0.03333, params: {'clf__C': 10.0, 'clf__gamma': 1000.0, 'clf__kernel': 'rbf'},\n",
       " mean: 0.89333, std: 0.04422, params: {'clf__C': 100.0, 'clf__gamma': 0.0001, 'clf__kernel': 'rbf'},\n",
       " mean: 0.97333, std: 0.04422, params: {'clf__C': 100.0, 'clf__gamma': 0.001, 'clf__kernel': 'rbf'},\n",
       " mean: 0.96000, std: 0.05333, params: {'clf__C': 100.0, 'clf__gamma': 0.01, 'clf__kernel': 'rbf'},\n",
       " mean: 0.96000, std: 0.05333, params: {'clf__C': 100.0, 'clf__gamma': 0.1, 'clf__kernel': 'rbf'},\n",
       " mean: 0.95333, std: 0.04269, params: {'clf__C': 100.0, 'clf__gamma': 1.0, 'clf__kernel': 'rbf'},\n",
       " mean: 0.91333, std: 0.09452, params: {'clf__C': 100.0, 'clf__gamma': 10.0, 'clf__kernel': 'rbf'},\n",
       " mean: 0.52667, std: 0.08138, params: {'clf__C': 100.0, 'clf__gamma': 100.0, 'clf__kernel': 'rbf'},\n",
       " mean: 0.36667, std: 0.03333, params: {'clf__C': 100.0, 'clf__gamma': 1000.0, 'clf__kernel': 'rbf'},\n",
       " mean: 0.97333, std: 0.04422, params: {'clf__C': 1000.0, 'clf__gamma': 0.0001, 'clf__kernel': 'rbf'},\n",
       " mean: 0.96000, std: 0.05333, params: {'clf__C': 1000.0, 'clf__gamma': 0.001, 'clf__kernel': 'rbf'},\n",
       " mean: 0.96000, std: 0.04422, params: {'clf__C': 1000.0, 'clf__gamma': 0.01, 'clf__kernel': 'rbf'},\n",
       " mean: 0.94667, std: 0.04989, params: {'clf__C': 1000.0, 'clf__gamma': 0.1, 'clf__kernel': 'rbf'},\n",
       " mean: 0.95333, std: 0.04269, params: {'clf__C': 1000.0, 'clf__gamma': 1.0, 'clf__kernel': 'rbf'},\n",
       " mean: 0.91333, std: 0.09452, params: {'clf__C': 1000.0, 'clf__gamma': 10.0, 'clf__kernel': 'rbf'},\n",
       " mean: 0.52667, std: 0.08138, params: {'clf__C': 1000.0, 'clf__gamma': 100.0, 'clf__kernel': 'rbf'},\n",
       " mean: 0.36667, std: 0.03333, params: {'clf__C': 1000.0, 'clf__gamma': 1000.0, 'clf__kernel': 'rbf'}]"
      ]
     },
     "execution_count": 31,
     "metadata": {},
     "output_type": "execute_result"
    }
   ],
   "source": [
    "gs.grid_scores_"
   ]
  },
  {
   "cell_type": "code",
   "execution_count": 32,
   "metadata": {
    "collapsed": true
   },
   "outputs": [
    {
     "data": {
      "text/plain": [
       "[{'clf__C': 0.0001, 'clf__kernel': 'linear'},\n",
       " {'clf__C': 0.001, 'clf__kernel': 'linear'},\n",
       " {'clf__C': 0.01, 'clf__kernel': 'linear'},\n",
       " {'clf__C': 0.1, 'clf__kernel': 'linear'},\n",
       " {'clf__C': 1.0, 'clf__kernel': 'linear'},\n",
       " {'clf__C': 10.0, 'clf__kernel': 'linear'},\n",
       " {'clf__C': 100.0, 'clf__kernel': 'linear'},\n",
       " {'clf__C': 1000.0, 'clf__kernel': 'linear'},\n",
       " {'clf__C': 0.0001, 'clf__gamma': 0.0001, 'clf__kernel': 'rbf'},\n",
       " {'clf__C': 0.0001, 'clf__gamma': 0.001, 'clf__kernel': 'rbf'},\n",
       " {'clf__C': 0.0001, 'clf__gamma': 0.01, 'clf__kernel': 'rbf'},\n",
       " {'clf__C': 0.0001, 'clf__gamma': 0.1, 'clf__kernel': 'rbf'},\n",
       " {'clf__C': 0.0001, 'clf__gamma': 1.0, 'clf__kernel': 'rbf'},\n",
       " {'clf__C': 0.0001, 'clf__gamma': 10.0, 'clf__kernel': 'rbf'},\n",
       " {'clf__C': 0.0001, 'clf__gamma': 100.0, 'clf__kernel': 'rbf'},\n",
       " {'clf__C': 0.0001, 'clf__gamma': 1000.0, 'clf__kernel': 'rbf'},\n",
       " {'clf__C': 0.001, 'clf__gamma': 0.0001, 'clf__kernel': 'rbf'},\n",
       " {'clf__C': 0.001, 'clf__gamma': 0.001, 'clf__kernel': 'rbf'},\n",
       " {'clf__C': 0.001, 'clf__gamma': 0.01, 'clf__kernel': 'rbf'},\n",
       " {'clf__C': 0.001, 'clf__gamma': 0.1, 'clf__kernel': 'rbf'},\n",
       " {'clf__C': 0.001, 'clf__gamma': 1.0, 'clf__kernel': 'rbf'},\n",
       " {'clf__C': 0.001, 'clf__gamma': 10.0, 'clf__kernel': 'rbf'},\n",
       " {'clf__C': 0.001, 'clf__gamma': 100.0, 'clf__kernel': 'rbf'},\n",
       " {'clf__C': 0.001, 'clf__gamma': 1000.0, 'clf__kernel': 'rbf'},\n",
       " {'clf__C': 0.01, 'clf__gamma': 0.0001, 'clf__kernel': 'rbf'},\n",
       " {'clf__C': 0.01, 'clf__gamma': 0.001, 'clf__kernel': 'rbf'},\n",
       " {'clf__C': 0.01, 'clf__gamma': 0.01, 'clf__kernel': 'rbf'},\n",
       " {'clf__C': 0.01, 'clf__gamma': 0.1, 'clf__kernel': 'rbf'},\n",
       " {'clf__C': 0.01, 'clf__gamma': 1.0, 'clf__kernel': 'rbf'},\n",
       " {'clf__C': 0.01, 'clf__gamma': 10.0, 'clf__kernel': 'rbf'},\n",
       " {'clf__C': 0.01, 'clf__gamma': 100.0, 'clf__kernel': 'rbf'},\n",
       " {'clf__C': 0.01, 'clf__gamma': 1000.0, 'clf__kernel': 'rbf'},\n",
       " {'clf__C': 0.1, 'clf__gamma': 0.0001, 'clf__kernel': 'rbf'},\n",
       " {'clf__C': 0.1, 'clf__gamma': 0.001, 'clf__kernel': 'rbf'},\n",
       " {'clf__C': 0.1, 'clf__gamma': 0.01, 'clf__kernel': 'rbf'},\n",
       " {'clf__C': 0.1, 'clf__gamma': 0.1, 'clf__kernel': 'rbf'},\n",
       " {'clf__C': 0.1, 'clf__gamma': 1.0, 'clf__kernel': 'rbf'},\n",
       " {'clf__C': 0.1, 'clf__gamma': 10.0, 'clf__kernel': 'rbf'},\n",
       " {'clf__C': 0.1, 'clf__gamma': 100.0, 'clf__kernel': 'rbf'},\n",
       " {'clf__C': 0.1, 'clf__gamma': 1000.0, 'clf__kernel': 'rbf'},\n",
       " {'clf__C': 1.0, 'clf__gamma': 0.0001, 'clf__kernel': 'rbf'},\n",
       " {'clf__C': 1.0, 'clf__gamma': 0.001, 'clf__kernel': 'rbf'},\n",
       " {'clf__C': 1.0, 'clf__gamma': 0.01, 'clf__kernel': 'rbf'},\n",
       " {'clf__C': 1.0, 'clf__gamma': 0.1, 'clf__kernel': 'rbf'},\n",
       " {'clf__C': 1.0, 'clf__gamma': 1.0, 'clf__kernel': 'rbf'},\n",
       " {'clf__C': 1.0, 'clf__gamma': 10.0, 'clf__kernel': 'rbf'},\n",
       " {'clf__C': 1.0, 'clf__gamma': 100.0, 'clf__kernel': 'rbf'},\n",
       " {'clf__C': 1.0, 'clf__gamma': 1000.0, 'clf__kernel': 'rbf'},\n",
       " {'clf__C': 10.0, 'clf__gamma': 0.0001, 'clf__kernel': 'rbf'},\n",
       " {'clf__C': 10.0, 'clf__gamma': 0.001, 'clf__kernel': 'rbf'},\n",
       " {'clf__C': 10.0, 'clf__gamma': 0.01, 'clf__kernel': 'rbf'},\n",
       " {'clf__C': 10.0, 'clf__gamma': 0.1, 'clf__kernel': 'rbf'},\n",
       " {'clf__C': 10.0, 'clf__gamma': 1.0, 'clf__kernel': 'rbf'},\n",
       " {'clf__C': 10.0, 'clf__gamma': 10.0, 'clf__kernel': 'rbf'},\n",
       " {'clf__C': 10.0, 'clf__gamma': 100.0, 'clf__kernel': 'rbf'},\n",
       " {'clf__C': 10.0, 'clf__gamma': 1000.0, 'clf__kernel': 'rbf'},\n",
       " {'clf__C': 100.0, 'clf__gamma': 0.0001, 'clf__kernel': 'rbf'},\n",
       " {'clf__C': 100.0, 'clf__gamma': 0.001, 'clf__kernel': 'rbf'},\n",
       " {'clf__C': 100.0, 'clf__gamma': 0.01, 'clf__kernel': 'rbf'},\n",
       " {'clf__C': 100.0, 'clf__gamma': 0.1, 'clf__kernel': 'rbf'},\n",
       " {'clf__C': 100.0, 'clf__gamma': 1.0, 'clf__kernel': 'rbf'},\n",
       " {'clf__C': 100.0, 'clf__gamma': 10.0, 'clf__kernel': 'rbf'},\n",
       " {'clf__C': 100.0, 'clf__gamma': 100.0, 'clf__kernel': 'rbf'},\n",
       " {'clf__C': 100.0, 'clf__gamma': 1000.0, 'clf__kernel': 'rbf'},\n",
       " {'clf__C': 1000.0, 'clf__gamma': 0.0001, 'clf__kernel': 'rbf'},\n",
       " {'clf__C': 1000.0, 'clf__gamma': 0.001, 'clf__kernel': 'rbf'},\n",
       " {'clf__C': 1000.0, 'clf__gamma': 0.01, 'clf__kernel': 'rbf'},\n",
       " {'clf__C': 1000.0, 'clf__gamma': 0.1, 'clf__kernel': 'rbf'},\n",
       " {'clf__C': 1000.0, 'clf__gamma': 1.0, 'clf__kernel': 'rbf'},\n",
       " {'clf__C': 1000.0, 'clf__gamma': 10.0, 'clf__kernel': 'rbf'},\n",
       " {'clf__C': 1000.0, 'clf__gamma': 100.0, 'clf__kernel': 'rbf'},\n",
       " {'clf__C': 1000.0, 'clf__gamma': 1000.0, 'clf__kernel': 'rbf'}]"
      ]
     },
     "execution_count": 32,
     "metadata": {},
     "output_type": "execute_result"
    }
   ],
   "source": [
    "gs.cv_results_[\"params\"]"
   ]
  },
  {
   "cell_type": "code",
   "execution_count": 33,
   "metadata": {},
   "outputs": [
    {
     "data": {
      "text/plain": [
       "array([0.86      , 0.86      , 0.89333333, 0.97333333, 0.97333333,\n",
       "       0.96      , 0.97333333, 0.97333333, 0.86      , 0.86      ,\n",
       "       0.86      , 0.86      , 0.93333333, 0.78      , 0.37333333,\n",
       "       0.36666667, 0.86      , 0.86      , 0.86      , 0.86      ,\n",
       "       0.93333333, 0.78      , 0.37333333, 0.36666667, 0.86      ,\n",
       "       0.86      , 0.86      , 0.86      , 0.93333333, 0.78      ,\n",
       "       0.37333333, 0.36666667, 0.86      , 0.86      , 0.86      ,\n",
       "       0.9       , 0.94      , 0.78      , 0.37333333, 0.36666667,\n",
       "       0.86      , 0.86      , 0.89333333, 0.98      , 0.95333333,\n",
       "       0.91333333, 0.50666667, 0.36666667, 0.86      , 0.89333333,\n",
       "       0.97333333, 0.96666667, 0.95333333, 0.91333333, 0.52666667,\n",
       "       0.36666667, 0.89333333, 0.97333333, 0.96      , 0.96      ,\n",
       "       0.95333333, 0.91333333, 0.52666667, 0.36666667, 0.97333333,\n",
       "       0.96      , 0.96      , 0.94666667, 0.95333333, 0.91333333,\n",
       "       0.52666667, 0.36666667])"
      ]
     },
     "execution_count": 33,
     "metadata": {},
     "output_type": "execute_result"
    }
   ],
   "source": [
    "gs.cv_results_[\"mean_test_score\"]"
   ]
  },
  {
   "cell_type": "code",
   "execution_count": 34,
   "metadata": {},
   "outputs": [
    {
     "name": "stdout",
     "output_type": "stream",
     "text": [
      "0.98\n",
      "{'clf__C': 1.0, 'clf__gamma': 0.1, 'clf__kernel': 'rbf'}\n"
     ]
    }
   ],
   "source": [
    "print(gs.best_score_)\n",
    "print(gs.best_params_)"
   ]
  },
  {
   "cell_type": "code",
   "execution_count": null,
   "metadata": {},
   "outputs": [],
   "source": []
  }
 ],
 "metadata": {
  "kernelspec": {
   "display_name": "Python 3",
   "language": "python",
   "name": "python3"
  },
  "language_info": {
   "codemirror_mode": {
    "name": "ipython",
    "version": 3
   },
   "file_extension": ".py",
   "mimetype": "text/x-python",
   "name": "python",
   "nbconvert_exporter": "python",
   "pygments_lexer": "ipython3",
   "version": "3.6.5"
  }
 },
 "nbformat": 4,
 "nbformat_minor": 2
}
