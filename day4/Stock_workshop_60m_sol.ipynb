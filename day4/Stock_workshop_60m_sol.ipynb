{
 "cells": [
  {
   "cell_type": "markdown",
   "metadata": {},
   "source": [
    "### Stock Prediction Workshop"
   ]
  },
  {
   "cell_type": "code",
   "execution_count": 188,
   "metadata": {
    "_kg_hide-input": false,
    "_kg_hide-output": true
   },
   "outputs": [],
   "source": [
    "import numpy as np\n",
    "import pandas as pd\n",
    "import matplotlib.pyplot as plt\n",
    "from sklearn.metrics import mean_squared_error\n",
    "from sklearn.preprocessing import MinMaxScaler\n",
    "from sklearn.model_selection import train_test_split, GridSearchCV\n",
    "from sklearn.ensemble import GradientBoostingRegressor\n"
   ]
  },
  {
   "cell_type": "markdown",
   "metadata": {},
   "source": [
    "### Data loading\n",
    "유럽 입자 물리 연구소 주가데이터 로딩"
   ]
  },
  {
   "cell_type": "code",
   "execution_count": 189,
   "metadata": {
    "_cell_guid": "b1076dfc-b9ad-4769-8c92-a6c4dae69d19",
    "_uuid": "8f2839f25d086af736a60e9eeb907d3b93b6e0e5"
   },
   "outputs": [
    {
     "data": {
      "text/html": [
       "<div>\n",
       "<style scoped>\n",
       "    .dataframe tbody tr th:only-of-type {\n",
       "        vertical-align: middle;\n",
       "    }\n",
       "\n",
       "    .dataframe tbody tr th {\n",
       "        vertical-align: top;\n",
       "    }\n",
       "\n",
       "    .dataframe thead th {\n",
       "        text-align: right;\n",
       "    }\n",
       "</style>\n",
       "<table border=\"1\" class=\"dataframe\">\n",
       "  <thead>\n",
       "    <tr style=\"text-align: right;\">\n",
       "      <th></th>\n",
       "      <th>Date</th>\n",
       "      <th>Open</th>\n",
       "      <th>High</th>\n",
       "      <th>Low</th>\n",
       "      <th>Close</th>\n",
       "      <th>Volume</th>\n",
       "      <th>OpenInt</th>\n",
       "    </tr>\n",
       "  </thead>\n",
       "  <tbody>\n",
       "    <tr>\n",
       "      <th>0</th>\n",
       "      <td>2005-02-25</td>\n",
       "      <td>6.3750</td>\n",
       "      <td>6.5450</td>\n",
       "      <td>6.3650</td>\n",
       "      <td>6.5125</td>\n",
       "      <td>3816664</td>\n",
       "      <td>0</td>\n",
       "    </tr>\n",
       "    <tr>\n",
       "      <th>1</th>\n",
       "      <td>2005-02-28</td>\n",
       "      <td>6.4775</td>\n",
       "      <td>6.5400</td>\n",
       "      <td>6.4625</td>\n",
       "      <td>6.5125</td>\n",
       "      <td>4163088</td>\n",
       "      <td>0</td>\n",
       "    </tr>\n",
       "    <tr>\n",
       "      <th>2</th>\n",
       "      <td>2005-03-01</td>\n",
       "      <td>6.5225</td>\n",
       "      <td>6.6250</td>\n",
       "      <td>6.5000</td>\n",
       "      <td>6.5950</td>\n",
       "      <td>4320872</td>\n",
       "      <td>0</td>\n",
       "    </tr>\n",
       "    <tr>\n",
       "      <th>3</th>\n",
       "      <td>2005-03-02</td>\n",
       "      <td>6.6050</td>\n",
       "      <td>6.6825</td>\n",
       "      <td>6.5625</td>\n",
       "      <td>6.6200</td>\n",
       "      <td>3547720</td>\n",
       "      <td>0</td>\n",
       "    </tr>\n",
       "    <tr>\n",
       "      <th>4</th>\n",
       "      <td>2005-03-03</td>\n",
       "      <td>6.6475</td>\n",
       "      <td>6.6825</td>\n",
       "      <td>6.4375</td>\n",
       "      <td>6.5125</td>\n",
       "      <td>3183528</td>\n",
       "      <td>0</td>\n",
       "    </tr>\n",
       "  </tbody>\n",
       "</table>\n",
       "</div>"
      ],
      "text/plain": [
       "         Date    Open    High     Low   Close   Volume  OpenInt\n",
       "0  2005-02-25  6.3750  6.5450  6.3650  6.5125  3816664        0\n",
       "1  2005-02-28  6.4775  6.5400  6.4625  6.5125  4163088        0\n",
       "2  2005-03-01  6.5225  6.6250  6.5000  6.5950  4320872        0\n",
       "3  2005-03-02  6.6050  6.6825  6.5625  6.6200  3547720        0\n",
       "4  2005-03-03  6.6475  6.6825  6.4375  6.5125  3183528        0"
      ]
     },
     "execution_count": 189,
     "metadata": {},
     "output_type": "execute_result"
    }
   ],
   "source": [
    "# CERN.us.txt파일을 로딩한후 앞에서 10건을 출력해 보세요.\n",
    "df = pd.read_csv('CERN.us.txt', sep=',')\n",
    "df.head()"
   ]
  },
  {
   "cell_type": "code",
   "execution_count": 190,
   "metadata": {},
   "outputs": [
    {
     "name": "stdout",
     "output_type": "stream",
     "text": [
      "<class 'pandas.core.frame.DataFrame'>\n",
      "RangeIndex: 3201 entries, 0 to 3200\n",
      "Data columns (total 7 columns):\n",
      "Date       3201 non-null object\n",
      "Open       3201 non-null float64\n",
      "High       3201 non-null float64\n",
      "Low        3201 non-null float64\n",
      "Close      3201 non-null float64\n",
      "Volume     3201 non-null int64\n",
      "OpenInt    3201 non-null int64\n",
      "dtypes: float64(4), int64(2), object(1)\n",
      "memory usage: 175.1+ KB\n"
     ]
    }
   ],
   "source": [
    "#데이터 프레임의 정보를 출력하세요.\n",
    "df.info()"
   ]
  },
  {
   "cell_type": "code",
   "execution_count": 191,
   "metadata": {},
   "outputs": [
    {
     "name": "stdout",
     "output_type": "stream",
     "text": [
      "<class 'pandas.core.frame.DataFrame'>\n",
      "RangeIndex: 3201 entries, 0 to 3200\n",
      "Data columns (total 7 columns):\n",
      "Date       3201 non-null datetime64[ns]\n",
      "Open       3201 non-null float64\n",
      "High       3201 non-null float64\n",
      "Low        3201 non-null float64\n",
      "Close      3201 non-null float64\n",
      "Volume     3201 non-null int64\n",
      "OpenInt    3201 non-null int64\n",
      "dtypes: datetime64[ns](1), float64(4), int64(2)\n",
      "memory usage: 175.1 KB\n"
     ]
    }
   ],
   "source": [
    "### Date 컬럼의 타입이 Object 타입이므로 Datetime 타입으로 변경하세요. \n",
    "# pandas 의 to_datetime을 이용하세요. \n",
    "\n",
    "df.Date = pd.to_datetime(df.Date)\n",
    "df.info()"
   ]
  },
  {
   "cell_type": "code",
   "execution_count": 192,
   "metadata": {},
   "outputs": [
    {
     "data": {
      "text/html": [
       "<div>\n",
       "<style scoped>\n",
       "    .dataframe tbody tr th:only-of-type {\n",
       "        vertical-align: middle;\n",
       "    }\n",
       "\n",
       "    .dataframe tbody tr th {\n",
       "        vertical-align: top;\n",
       "    }\n",
       "\n",
       "    .dataframe thead th {\n",
       "        text-align: right;\n",
       "    }\n",
       "</style>\n",
       "<table border=\"1\" class=\"dataframe\">\n",
       "  <thead>\n",
       "    <tr style=\"text-align: right;\">\n",
       "      <th></th>\n",
       "      <th>Date</th>\n",
       "      <th>Open</th>\n",
       "      <th>High</th>\n",
       "      <th>Low</th>\n",
       "      <th>Close</th>\n",
       "      <th>Volume</th>\n",
       "      <th>OpenInt</th>\n",
       "    </tr>\n",
       "  </thead>\n",
       "  <tbody>\n",
       "    <tr>\n",
       "      <th>1222</th>\n",
       "      <td>2010-01-04</td>\n",
       "      <td>20.940</td>\n",
       "      <td>21.103</td>\n",
       "      <td>20.713</td>\n",
       "      <td>21.068</td>\n",
       "      <td>3058908</td>\n",
       "      <td>0</td>\n",
       "    </tr>\n",
       "    <tr>\n",
       "      <th>1223</th>\n",
       "      <td>2010-01-05</td>\n",
       "      <td>21.355</td>\n",
       "      <td>22.345</td>\n",
       "      <td>21.250</td>\n",
       "      <td>22.313</td>\n",
       "      <td>7324724</td>\n",
       "      <td>0</td>\n",
       "    </tr>\n",
       "    <tr>\n",
       "      <th>1224</th>\n",
       "      <td>2010-01-06</td>\n",
       "      <td>22.500</td>\n",
       "      <td>22.873</td>\n",
       "      <td>22.265</td>\n",
       "      <td>22.548</td>\n",
       "      <td>6844460</td>\n",
       "      <td>0</td>\n",
       "    </tr>\n",
       "    <tr>\n",
       "      <th>1225</th>\n",
       "      <td>2010-01-07</td>\n",
       "      <td>22.423</td>\n",
       "      <td>22.750</td>\n",
       "      <td>22.230</td>\n",
       "      <td>22.680</td>\n",
       "      <td>2968936</td>\n",
       "      <td>0</td>\n",
       "    </tr>\n",
       "    <tr>\n",
       "      <th>1226</th>\n",
       "      <td>2010-01-08</td>\n",
       "      <td>22.578</td>\n",
       "      <td>22.663</td>\n",
       "      <td>22.345</td>\n",
       "      <td>22.633</td>\n",
       "      <td>3238372</td>\n",
       "      <td>0</td>\n",
       "    </tr>\n",
       "  </tbody>\n",
       "</table>\n",
       "</div>"
      ],
      "text/plain": [
       "           Date    Open    High     Low   Close   Volume  OpenInt\n",
       "1222 2010-01-04  20.940  21.103  20.713  21.068  3058908        0\n",
       "1223 2010-01-05  21.355  22.345  21.250  22.313  7324724        0\n",
       "1224 2010-01-06  22.500  22.873  22.265  22.548  6844460        0\n",
       "1225 2010-01-07  22.423  22.750  22.230  22.680  2968936        0\n",
       "1226 2010-01-08  22.578  22.663  22.345  22.633  3238372        0"
      ]
     },
     "execution_count": 192,
     "metadata": {},
     "output_type": "execute_result"
    }
   ],
   "source": [
    "### 연도가 2010년도 이후 데이터만 추려서 df2에 담으세요. \n",
    "### Date 컬럼의 dt 객체의 year는 df.Date.dt.year 로 가져올수 있습니다. \n",
    "\n",
    "df2 = df[df.Date.dt.year >= 2010].copy() \n",
    "df2.head()\n"
   ]
  },
  {
   "cell_type": "code",
   "execution_count": 193,
   "metadata": {},
   "outputs": [
    {
     "data": {
      "text/html": [
       "<div>\n",
       "<style scoped>\n",
       "    .dataframe tbody tr th:only-of-type {\n",
       "        vertical-align: middle;\n",
       "    }\n",
       "\n",
       "    .dataframe tbody tr th {\n",
       "        vertical-align: top;\n",
       "    }\n",
       "\n",
       "    .dataframe thead th {\n",
       "        text-align: right;\n",
       "    }\n",
       "</style>\n",
       "<table border=\"1\" class=\"dataframe\">\n",
       "  <thead>\n",
       "    <tr style=\"text-align: right;\">\n",
       "      <th></th>\n",
       "      <th>Date</th>\n",
       "      <th>Open</th>\n",
       "      <th>High</th>\n",
       "      <th>Low</th>\n",
       "      <th>Close</th>\n",
       "      <th>Volume</th>\n",
       "      <th>OpenInt</th>\n",
       "    </tr>\n",
       "  </thead>\n",
       "  <tbody>\n",
       "    <tr>\n",
       "      <th>0</th>\n",
       "      <td>2010-01-04</td>\n",
       "      <td>20.940</td>\n",
       "      <td>21.103</td>\n",
       "      <td>20.713</td>\n",
       "      <td>21.068</td>\n",
       "      <td>3058908</td>\n",
       "      <td>0</td>\n",
       "    </tr>\n",
       "    <tr>\n",
       "      <th>1</th>\n",
       "      <td>2010-01-05</td>\n",
       "      <td>21.355</td>\n",
       "      <td>22.345</td>\n",
       "      <td>21.250</td>\n",
       "      <td>22.313</td>\n",
       "      <td>7324724</td>\n",
       "      <td>0</td>\n",
       "    </tr>\n",
       "    <tr>\n",
       "      <th>2</th>\n",
       "      <td>2010-01-06</td>\n",
       "      <td>22.500</td>\n",
       "      <td>22.873</td>\n",
       "      <td>22.265</td>\n",
       "      <td>22.548</td>\n",
       "      <td>6844460</td>\n",
       "      <td>0</td>\n",
       "    </tr>\n",
       "    <tr>\n",
       "      <th>3</th>\n",
       "      <td>2010-01-07</td>\n",
       "      <td>22.423</td>\n",
       "      <td>22.750</td>\n",
       "      <td>22.230</td>\n",
       "      <td>22.680</td>\n",
       "      <td>2968936</td>\n",
       "      <td>0</td>\n",
       "    </tr>\n",
       "    <tr>\n",
       "      <th>4</th>\n",
       "      <td>2010-01-08</td>\n",
       "      <td>22.578</td>\n",
       "      <td>22.663</td>\n",
       "      <td>22.345</td>\n",
       "      <td>22.633</td>\n",
       "      <td>3238372</td>\n",
       "      <td>0</td>\n",
       "    </tr>\n",
       "  </tbody>\n",
       "</table>\n",
       "</div>"
      ],
      "text/plain": [
       "        Date    Open    High     Low   Close   Volume  OpenInt\n",
       "0 2010-01-04  20.940  21.103  20.713  21.068  3058908        0\n",
       "1 2010-01-05  21.355  22.345  21.250  22.313  7324724        0\n",
       "2 2010-01-06  22.500  22.873  22.265  22.548  6844460        0\n",
       "3 2010-01-07  22.423  22.750  22.230  22.680  2968936        0\n",
       "4 2010-01-08  22.578  22.663  22.345  22.633  3238372        0"
      ]
     },
     "execution_count": 193,
     "metadata": {},
     "output_type": "execute_result"
    }
   ],
   "source": [
    "### df2의 인덱스를 0부터 df2의 len 만큼 순차적인 정수값으로 세팅하세요. \n",
    "df2.index = range(len(df2))\n",
    "df2.head()"
   ]
  },
  {
   "cell_type": "code",
   "execution_count": 194,
   "metadata": {},
   "outputs": [
    {
     "data": {
      "text/html": [
       "<div>\n",
       "<style scoped>\n",
       "    .dataframe tbody tr th:only-of-type {\n",
       "        vertical-align: middle;\n",
       "    }\n",
       "\n",
       "    .dataframe tbody tr th {\n",
       "        vertical-align: top;\n",
       "    }\n",
       "\n",
       "    .dataframe thead th {\n",
       "        text-align: right;\n",
       "    }\n",
       "</style>\n",
       "<table border=\"1\" class=\"dataframe\">\n",
       "  <thead>\n",
       "    <tr style=\"text-align: right;\">\n",
       "      <th></th>\n",
       "      <th>Date</th>\n",
       "      <th>Open</th>\n",
       "      <th>High</th>\n",
       "      <th>Low</th>\n",
       "      <th>Close</th>\n",
       "      <th>Volume</th>\n",
       "      <th>OpenInt</th>\n",
       "      <th>EMA_9</th>\n",
       "      <th>SMA_5</th>\n",
       "      <th>SMA_10</th>\n",
       "      <th>SMA_15</th>\n",
       "      <th>SMA_30</th>\n",
       "    </tr>\n",
       "  </thead>\n",
       "  <tbody>\n",
       "    <tr>\n",
       "      <th>0</th>\n",
       "      <td>2010-01-04</td>\n",
       "      <td>20.940</td>\n",
       "      <td>21.103</td>\n",
       "      <td>20.713</td>\n",
       "      <td>21.068</td>\n",
       "      <td>3058908</td>\n",
       "      <td>0</td>\n",
       "      <td>NaN</td>\n",
       "      <td>NaN</td>\n",
       "      <td>NaN</td>\n",
       "      <td>NaN</td>\n",
       "      <td>NaN</td>\n",
       "    </tr>\n",
       "    <tr>\n",
       "      <th>1</th>\n",
       "      <td>2010-01-05</td>\n",
       "      <td>21.355</td>\n",
       "      <td>22.345</td>\n",
       "      <td>21.250</td>\n",
       "      <td>22.313</td>\n",
       "      <td>7324724</td>\n",
       "      <td>0</td>\n",
       "      <td>21.068000</td>\n",
       "      <td>NaN</td>\n",
       "      <td>NaN</td>\n",
       "      <td>NaN</td>\n",
       "      <td>NaN</td>\n",
       "    </tr>\n",
       "    <tr>\n",
       "      <th>2</th>\n",
       "      <td>2010-01-06</td>\n",
       "      <td>22.500</td>\n",
       "      <td>22.873</td>\n",
       "      <td>22.265</td>\n",
       "      <td>22.548</td>\n",
       "      <td>6844460</td>\n",
       "      <td>0</td>\n",
       "      <td>21.723263</td>\n",
       "      <td>NaN</td>\n",
       "      <td>NaN</td>\n",
       "      <td>NaN</td>\n",
       "      <td>NaN</td>\n",
       "    </tr>\n",
       "    <tr>\n",
       "      <th>3</th>\n",
       "      <td>2010-01-07</td>\n",
       "      <td>22.423</td>\n",
       "      <td>22.750</td>\n",
       "      <td>22.230</td>\n",
       "      <td>22.680</td>\n",
       "      <td>2968936</td>\n",
       "      <td>0</td>\n",
       "      <td>22.027594</td>\n",
       "      <td>NaN</td>\n",
       "      <td>NaN</td>\n",
       "      <td>NaN</td>\n",
       "      <td>NaN</td>\n",
       "    </tr>\n",
       "    <tr>\n",
       "      <th>4</th>\n",
       "      <td>2010-01-08</td>\n",
       "      <td>22.578</td>\n",
       "      <td>22.663</td>\n",
       "      <td>22.345</td>\n",
       "      <td>22.633</td>\n",
       "      <td>3238372</td>\n",
       "      <td>0</td>\n",
       "      <td>22.217302</td>\n",
       "      <td>NaN</td>\n",
       "      <td>NaN</td>\n",
       "      <td>NaN</td>\n",
       "      <td>NaN</td>\n",
       "    </tr>\n",
       "  </tbody>\n",
       "</table>\n",
       "</div>"
      ],
      "text/plain": [
       "        Date    Open    High     Low   Close   Volume  OpenInt      EMA_9  \\\n",
       "0 2010-01-04  20.940  21.103  20.713  21.068  3058908        0        NaN   \n",
       "1 2010-01-05  21.355  22.345  21.250  22.313  7324724        0  21.068000   \n",
       "2 2010-01-06  22.500  22.873  22.265  22.548  6844460        0  21.723263   \n",
       "3 2010-01-07  22.423  22.750  22.230  22.680  2968936        0  22.027594   \n",
       "4 2010-01-08  22.578  22.663  22.345  22.633  3238372        0  22.217302   \n",
       "\n",
       "   SMA_5  SMA_10  SMA_15  SMA_30  \n",
       "0    NaN     NaN     NaN     NaN  \n",
       "1    NaN     NaN     NaN     NaN  \n",
       "2    NaN     NaN     NaN     NaN  \n",
       "3    NaN     NaN     NaN     NaN  \n",
       "4    NaN     NaN     NaN     NaN  "
      ]
     },
     "execution_count": 194,
     "metadata": {},
     "output_type": "execute_result"
    }
   ],
   "source": [
    "# 지수이동 평균, 단순이동평균을 구해서 feature 로 추가하세요. \n",
    "# 지수이동평균은 EMA_9, 5일 이동평균은 SMA_5, 10일 이동평균은 SMA_10, 15일 이동평균은 SMA_15, 30일 이동평균은 SMA_30으로 컬럼을 추가하세요. \n",
    "\n",
    "df2['EMA_9'] = df2['Close'].ewm(9).mean().shift()        #지수이동평균(9일)\n",
    "df2['SMA_5'] = df2['Close'].rolling(5).mean().shift()    #단순이동평균(5일)\n",
    "df2['SMA_10'] = df2['Close'].rolling(10).mean().shift()  #단순이동평균(10일)\n",
    "df2['SMA_15'] = df2['Close'].rolling(15).mean().shift()  #단순이동평균(15일)\n",
    "df2['SMA_30'] = df2['Close'].rolling(30).mean().shift()  #단순이동평균(30일)\n",
    "\n",
    "df2.head()"
   ]
  },
  {
   "cell_type": "code",
   "execution_count": 195,
   "metadata": {
    "scrolled": false
   },
   "outputs": [
    {
     "data": {
      "text/html": [
       "<div>\n",
       "<style scoped>\n",
       "    .dataframe tbody tr th:only-of-type {\n",
       "        vertical-align: middle;\n",
       "    }\n",
       "\n",
       "    .dataframe tbody tr th {\n",
       "        vertical-align: top;\n",
       "    }\n",
       "\n",
       "    .dataframe thead th {\n",
       "        text-align: right;\n",
       "    }\n",
       "</style>\n",
       "<table border=\"1\" class=\"dataframe\">\n",
       "  <thead>\n",
       "    <tr style=\"text-align: right;\">\n",
       "      <th></th>\n",
       "      <th>Date</th>\n",
       "      <th>Open</th>\n",
       "      <th>High</th>\n",
       "      <th>Low</th>\n",
       "      <th>Close</th>\n",
       "      <th>Volume</th>\n",
       "      <th>OpenInt</th>\n",
       "    </tr>\n",
       "  </thead>\n",
       "  <tbody>\n",
       "    <tr>\n",
       "      <th>0</th>\n",
       "      <td>2005-02-25</td>\n",
       "      <td>6.3750</td>\n",
       "      <td>6.5450</td>\n",
       "      <td>6.3650</td>\n",
       "      <td>6.5125</td>\n",
       "      <td>3816664</td>\n",
       "      <td>0</td>\n",
       "    </tr>\n",
       "    <tr>\n",
       "      <th>1</th>\n",
       "      <td>2005-02-28</td>\n",
       "      <td>6.4775</td>\n",
       "      <td>6.5400</td>\n",
       "      <td>6.4625</td>\n",
       "      <td>6.5125</td>\n",
       "      <td>4163088</td>\n",
       "      <td>0</td>\n",
       "    </tr>\n",
       "    <tr>\n",
       "      <th>2</th>\n",
       "      <td>2005-03-01</td>\n",
       "      <td>6.5225</td>\n",
       "      <td>6.6250</td>\n",
       "      <td>6.5000</td>\n",
       "      <td>6.5950</td>\n",
       "      <td>4320872</td>\n",
       "      <td>0</td>\n",
       "    </tr>\n",
       "    <tr>\n",
       "      <th>3</th>\n",
       "      <td>2005-03-02</td>\n",
       "      <td>6.6050</td>\n",
       "      <td>6.6825</td>\n",
       "      <td>6.5625</td>\n",
       "      <td>6.6200</td>\n",
       "      <td>3547720</td>\n",
       "      <td>0</td>\n",
       "    </tr>\n",
       "    <tr>\n",
       "      <th>4</th>\n",
       "      <td>2005-03-03</td>\n",
       "      <td>6.6475</td>\n",
       "      <td>6.6825</td>\n",
       "      <td>6.4375</td>\n",
       "      <td>6.5125</td>\n",
       "      <td>3183528</td>\n",
       "      <td>0</td>\n",
       "    </tr>\n",
       "  </tbody>\n",
       "</table>\n",
       "</div>"
      ],
      "text/plain": [
       "        Date    Open    High     Low   Close   Volume  OpenInt\n",
       "0 2005-02-25  6.3750  6.5450  6.3650  6.5125  3816664        0\n",
       "1 2005-02-28  6.4775  6.5400  6.4625  6.5125  4163088        0\n",
       "2 2005-03-01  6.5225  6.6250  6.5000  6.5950  4320872        0\n",
       "3 2005-03-02  6.6050  6.6825  6.5625  6.6200  3547720        0\n",
       "4 2005-03-03  6.6475  6.6825  6.4375  6.5125  3183528        0"
      ]
     },
     "execution_count": 195,
     "metadata": {},
     "output_type": "execute_result"
    }
   ],
   "source": [
    "df.head()"
   ]
  },
  {
   "cell_type": "code",
   "execution_count": 196,
   "metadata": {},
   "outputs": [],
   "source": [
    "### NaN이 있는 행을 삭제 하세요. dropna \n",
    "df2.dropna(inplace=True)"
   ]
  },
  {
   "cell_type": "code",
   "execution_count": 197,
   "metadata": {},
   "outputs": [],
   "source": [
    "# train_data는 70%,test_data는 30%로 데이터를 분할하세요. \n",
    "# 시계열은 시간순으로 데이터를 분할해야합니다. (랜덤샘플링 하면 안됨)\n",
    "\n",
    "test_size  = 0.3\n",
    "test_split_idx  = int(df2.shape[0] * (1-test_size))\n",
    "\n",
    "train_df  = df2.loc[:test_split_idx].copy()\n",
    "test_df   = df2.loc[test_split_idx+1:].copy()"
   ]
  },
  {
   "cell_type": "code",
   "execution_count": 198,
   "metadata": {},
   "outputs": [
    {
     "data": {
      "text/plain": [
       "(1335, 12)"
      ]
     },
     "execution_count": 198,
     "metadata": {},
     "output_type": "execute_result"
    }
   ],
   "source": [
    "train_df.shape"
   ]
  },
  {
   "cell_type": "code",
   "execution_count": 199,
   "metadata": {},
   "outputs": [
    {
     "data": {
      "text/plain": [
       "(614, 12)"
      ]
     },
     "execution_count": 199,
     "metadata": {},
     "output_type": "execute_result"
    }
   ],
   "source": [
    "test_df.shape"
   ]
  },
  {
   "cell_type": "markdown",
   "metadata": {},
   "source": [
    "### Y 값 변경"
   ]
  },
  {
   "cell_type": "code",
   "execution_count": 200,
   "metadata": {},
   "outputs": [
    {
     "name": "stdout",
     "output_type": "stream",
     "text": [
      "     Close   Close\n",
      "30  20.093  20.315\n",
      "31  20.315  20.430\n",
      "32  20.430  20.533\n",
      "33  20.533  20.225\n",
      "34  20.225  20.633\n"
     ]
    }
   ],
   "source": [
    "# Close 열의 주가는 다음날을 예측하는 것이 목표이므로 하루 앞으로 shift 해서, Close 컬럼을 대체하세요.\n",
    "print(pd.concat([df2.Close, df2['Close'].shift(-1)], axis=1).head()\n",
    ")\n",
    "df2['Close'] = df2['Close'].shift(-1)\n",
    "\n",
    "# 아래는 예시입니다(before/after)"
   ]
  },
  {
   "cell_type": "code",
   "execution_count": 201,
   "metadata": {},
   "outputs": [
    {
     "data": {
      "text/html": [
       "<div>\n",
       "<style scoped>\n",
       "    .dataframe tbody tr th:only-of-type {\n",
       "        vertical-align: middle;\n",
       "    }\n",
       "\n",
       "    .dataframe tbody tr th {\n",
       "        vertical-align: top;\n",
       "    }\n",
       "\n",
       "    .dataframe thead th {\n",
       "        text-align: right;\n",
       "    }\n",
       "</style>\n",
       "<table border=\"1\" class=\"dataframe\">\n",
       "  <thead>\n",
       "    <tr style=\"text-align: right;\">\n",
       "      <th></th>\n",
       "      <th>Date</th>\n",
       "      <th>Open</th>\n",
       "      <th>High</th>\n",
       "      <th>Low</th>\n",
       "      <th>Close</th>\n",
       "      <th>Volume</th>\n",
       "      <th>OpenInt</th>\n",
       "      <th>EMA_9</th>\n",
       "      <th>SMA_5</th>\n",
       "      <th>SMA_10</th>\n",
       "      <th>SMA_15</th>\n",
       "      <th>SMA_30</th>\n",
       "    </tr>\n",
       "  </thead>\n",
       "  <tbody>\n",
       "    <tr>\n",
       "      <th>30</th>\n",
       "      <td>2010-02-17</td>\n",
       "      <td>20.000</td>\n",
       "      <td>20.243</td>\n",
       "      <td>19.910</td>\n",
       "      <td>20.093</td>\n",
       "      <td>2047524</td>\n",
       "      <td>0</td>\n",
       "      <td>19.954861</td>\n",
       "      <td>19.6976</td>\n",
       "      <td>19.4897</td>\n",
       "      <td>19.637400</td>\n",
       "      <td>20.749333</td>\n",
       "    </tr>\n",
       "    <tr>\n",
       "      <th>31</th>\n",
       "      <td>2010-02-18</td>\n",
       "      <td>20.120</td>\n",
       "      <td>20.385</td>\n",
       "      <td>20.043</td>\n",
       "      <td>20.315</td>\n",
       "      <td>1936820</td>\n",
       "      <td>0</td>\n",
       "      <td>19.969223</td>\n",
       "      <td>19.7682</td>\n",
       "      <td>19.5267</td>\n",
       "      <td>19.601267</td>\n",
       "      <td>20.716833</td>\n",
       "    </tr>\n",
       "    <tr>\n",
       "      <th>32</th>\n",
       "      <td>2010-02-19</td>\n",
       "      <td>20.270</td>\n",
       "      <td>20.525</td>\n",
       "      <td>20.205</td>\n",
       "      <td>20.430</td>\n",
       "      <td>1841604</td>\n",
       "      <td>0</td>\n",
       "      <td>20.005030</td>\n",
       "      <td>19.9622</td>\n",
       "      <td>19.6292</td>\n",
       "      <td>19.580733</td>\n",
       "      <td>20.650233</td>\n",
       "    </tr>\n",
       "    <tr>\n",
       "      <th>33</th>\n",
       "      <td>2010-02-22</td>\n",
       "      <td>20.545</td>\n",
       "      <td>20.630</td>\n",
       "      <td>20.270</td>\n",
       "      <td>20.533</td>\n",
       "      <td>2054768</td>\n",
       "      <td>0</td>\n",
       "      <td>20.048882</td>\n",
       "      <td>20.0862</td>\n",
       "      <td>19.7799</td>\n",
       "      <td>19.604867</td>\n",
       "      <td>20.579633</td>\n",
       "    </tr>\n",
       "    <tr>\n",
       "      <th>34</th>\n",
       "      <td>2010-02-23</td>\n",
       "      <td>20.520</td>\n",
       "      <td>20.660</td>\n",
       "      <td>20.105</td>\n",
       "      <td>20.225</td>\n",
       "      <td>3282488</td>\n",
       "      <td>0</td>\n",
       "      <td>20.098679</td>\n",
       "      <td>20.2568</td>\n",
       "      <td>19.9197</td>\n",
       "      <td>19.712733</td>\n",
       "      <td>20.508067</td>\n",
       "    </tr>\n",
       "  </tbody>\n",
       "</table>\n",
       "</div>"
      ],
      "text/plain": [
       "         Date    Open    High     Low   Close   Volume  OpenInt      EMA_9  \\\n",
       "30 2010-02-17  20.000  20.243  19.910  20.093  2047524        0  19.954861   \n",
       "31 2010-02-18  20.120  20.385  20.043  20.315  1936820        0  19.969223   \n",
       "32 2010-02-19  20.270  20.525  20.205  20.430  1841604        0  20.005030   \n",
       "33 2010-02-22  20.545  20.630  20.270  20.533  2054768        0  20.048882   \n",
       "34 2010-02-23  20.520  20.660  20.105  20.225  3282488        0  20.098679   \n",
       "\n",
       "      SMA_5   SMA_10     SMA_15     SMA_30  \n",
       "30  19.6976  19.4897  19.637400  20.749333  \n",
       "31  19.7682  19.5267  19.601267  20.716833  \n",
       "32  19.9622  19.6292  19.580733  20.650233  \n",
       "33  20.0862  19.7799  19.604867  20.579633  \n",
       "34  20.2568  19.9197  19.712733  20.508067  "
      ]
     },
     "execution_count": 201,
     "metadata": {},
     "output_type": "execute_result"
    }
   ],
   "source": [
    "train_df.head()"
   ]
  },
  {
   "cell_type": "code",
   "execution_count": 202,
   "metadata": {},
   "outputs": [],
   "source": [
    "### 불필요한 컬럼 삭제 \n",
    "drop_cols = ['Date', 'Volume', 'Open', 'Low', 'High', 'OpenInt']\n",
    "\n",
    "train_df = train_df.drop(drop_cols, 1)\n",
    "test_df  = test_df.drop(drop_cols, 1)"
   ]
  },
  {
   "cell_type": "code",
   "execution_count": 203,
   "metadata": {},
   "outputs": [
    {
     "name": "stdout",
     "output_type": "stream",
     "text": [
      "<class 'pandas.core.frame.DataFrame'>\n",
      "Int64Index: 1335 entries, 30 to 1364\n",
      "Data columns (total 5 columns):\n",
      "EMA_9     1335 non-null float64\n",
      "SMA_5     1335 non-null float64\n",
      "SMA_10    1335 non-null float64\n",
      "SMA_15    1335 non-null float64\n",
      "SMA_30    1335 non-null float64\n",
      "dtypes: float64(5)\n",
      "memory usage: 62.6 KB\n"
     ]
    }
   ],
   "source": [
    "### 학습용 데이터인 y_train 은 train_df의 Close 컬럼으로 할당하고, train_df에서는 Close 컬럼을 삭제하세요. \n",
    "### 테스트 데이터인 y_test는 test_df 의 Close 컬럼으로 할당하고, test_df에서 Close 컬럼을 삭제하세요.\n",
    "\n",
    "y_train = train_df['Close'].copy()\n",
    "X_train = train_df.drop(['Close'], 1)\n",
    "\n",
    "y_test  = test_df['Close'].copy()\n",
    "X_test  = test_df.drop(['Close'], 1)\n",
    "\n",
    "X_train.info()"
   ]
  },
  {
   "cell_type": "code",
   "execution_count": 204,
   "metadata": {},
   "outputs": [
    {
     "data": {
      "text/html": [
       "<div>\n",
       "<style scoped>\n",
       "    .dataframe tbody tr th:only-of-type {\n",
       "        vertical-align: middle;\n",
       "    }\n",
       "\n",
       "    .dataframe tbody tr th {\n",
       "        vertical-align: top;\n",
       "    }\n",
       "\n",
       "    .dataframe thead th {\n",
       "        text-align: right;\n",
       "    }\n",
       "</style>\n",
       "<table border=\"1\" class=\"dataframe\">\n",
       "  <thead>\n",
       "    <tr style=\"text-align: right;\">\n",
       "      <th></th>\n",
       "      <th>Close</th>\n",
       "      <th>EMA_9</th>\n",
       "      <th>SMA_5</th>\n",
       "      <th>SMA_10</th>\n",
       "      <th>SMA_15</th>\n",
       "      <th>SMA_30</th>\n",
       "    </tr>\n",
       "  </thead>\n",
       "  <tbody>\n",
       "    <tr>\n",
       "      <th>30</th>\n",
       "      <td>20.093</td>\n",
       "      <td>19.954861</td>\n",
       "      <td>19.6976</td>\n",
       "      <td>19.4897</td>\n",
       "      <td>19.637400</td>\n",
       "      <td>20.749333</td>\n",
       "    </tr>\n",
       "    <tr>\n",
       "      <th>31</th>\n",
       "      <td>20.315</td>\n",
       "      <td>19.969223</td>\n",
       "      <td>19.7682</td>\n",
       "      <td>19.5267</td>\n",
       "      <td>19.601267</td>\n",
       "      <td>20.716833</td>\n",
       "    </tr>\n",
       "    <tr>\n",
       "      <th>32</th>\n",
       "      <td>20.430</td>\n",
       "      <td>20.005030</td>\n",
       "      <td>19.9622</td>\n",
       "      <td>19.6292</td>\n",
       "      <td>19.580733</td>\n",
       "      <td>20.650233</td>\n",
       "    </tr>\n",
       "    <tr>\n",
       "      <th>33</th>\n",
       "      <td>20.533</td>\n",
       "      <td>20.048882</td>\n",
       "      <td>20.0862</td>\n",
       "      <td>19.7799</td>\n",
       "      <td>19.604867</td>\n",
       "      <td>20.579633</td>\n",
       "    </tr>\n",
       "    <tr>\n",
       "      <th>34</th>\n",
       "      <td>20.225</td>\n",
       "      <td>20.098679</td>\n",
       "      <td>20.2568</td>\n",
       "      <td>19.9197</td>\n",
       "      <td>19.712733</td>\n",
       "      <td>20.508067</td>\n",
       "    </tr>\n",
       "  </tbody>\n",
       "</table>\n",
       "</div>"
      ],
      "text/plain": [
       "     Close      EMA_9    SMA_5   SMA_10     SMA_15     SMA_30\n",
       "30  20.093  19.954861  19.6976  19.4897  19.637400  20.749333\n",
       "31  20.315  19.969223  19.7682  19.5267  19.601267  20.716833\n",
       "32  20.430  20.005030  19.9622  19.6292  19.580733  20.650233\n",
       "33  20.533  20.048882  20.0862  19.7799  19.604867  20.579633\n",
       "34  20.225  20.098679  20.2568  19.9197  19.712733  20.508067"
      ]
     },
     "execution_count": 204,
     "metadata": {},
     "output_type": "execute_result"
    }
   ],
   "source": [
    "train_df.head()"
   ]
  },
  {
   "cell_type": "markdown",
   "metadata": {},
   "source": [
    "### 모델링 \n",
    "- GradientBoostingRegressor 를 이용하여 모델링하고, \n",
    "- GridSearch 기능을 사용해 최적의 하이퍼파라미터를 찾으세요\n",
    "- 최적이 파라미터를 출력하고, train 의 best score를 출력하세요."
   ]
  },
  {
   "cell_type": "code",
   "execution_count": 206,
   "metadata": {},
   "outputs": [
    {
     "name": "stdout",
     "output_type": "stream",
     "text": [
      "Best params: {'learning_rate': 0.05, 'max_depth': 15, 'n_estimators': 400, 'random_state': 42}\n",
      "Best validation score = -0.8449760794903611\n"
     ]
    }
   ],
   "source": [
    "%%time\n",
    "from sklearn.ensemble import GradientBoostingRegressor\n",
    "\n",
    "parameters = {\n",
    "    'n_estimators': [100, 300, 400],\n",
    "    'learning_rate': [0.001, 0.01, 0.05],\n",
    "    'max_depth': [10, 12, 15],\n",
    "    'random_state': [42]\n",
    "}\n",
    "\n",
    "model = GradientBoostingRegressor()\n",
    "clf = GridSearchCV(model, parameters)\n",
    "clf.fit(X_train, y_train)\n",
    "\n",
    "print(f'Best params: {clf.best_params_}')\n",
    "print(f'Best validation score = {clf.best_score_}')"
   ]
  },
  {
   "cell_type": "code",
   "execution_count": 207,
   "metadata": {},
   "outputs": [
    {
     "data": {
      "text/plain": [
       "0.8734087636494429"
      ]
     },
     "execution_count": 207,
     "metadata": {},
     "output_type": "execute_result"
    }
   ],
   "source": [
    "# 테스트 데이터의 점수(결정계수)를 출력해보세요.\n",
    "clf.score(X_test, y_test)"
   ]
  },
  {
   "cell_type": "code",
   "execution_count": null,
   "metadata": {},
   "outputs": [],
   "source": []
  },
  {
   "cell_type": "code",
   "execution_count": null,
   "metadata": {},
   "outputs": [],
   "source": []
  },
  {
   "cell_type": "code",
   "execution_count": null,
   "metadata": {},
   "outputs": [],
   "source": []
  },
  {
   "cell_type": "code",
   "execution_count": null,
   "metadata": {},
   "outputs": [],
   "source": []
  },
  {
   "cell_type": "code",
   "execution_count": null,
   "metadata": {},
   "outputs": [],
   "source": []
  }
 ],
 "metadata": {
  "kernelspec": {
   "display_name": "Python 3",
   "language": "python",
   "name": "python3"
  },
  "language_info": {
   "codemirror_mode": {
    "name": "ipython",
    "version": 3
   },
   "file_extension": ".py",
   "mimetype": "text/x-python",
   "name": "python",
   "nbconvert_exporter": "python",
   "pygments_lexer": "ipython3",
   "version": "3.6.5"
  }
 },
 "nbformat": 4,
 "nbformat_minor": 4
}
