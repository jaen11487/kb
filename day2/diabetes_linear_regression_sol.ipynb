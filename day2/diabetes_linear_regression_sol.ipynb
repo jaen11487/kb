{
 "cells": [
  {
   "cell_type": "markdown",
   "metadata": {},
   "source": [
    "### Diabets Dataset\n",
    "Ten baseline variables, age, sex, body mass index, average blood pressure, and six blood serum measurements were obtained for each of n = 442 diabetes patients, as well as the response of interest, a quantitative measure of disease progression one year after baseline.\n",
    "\n",
    "  :Attributes:\n",
    "*    :Age:\n",
    "*    :Sex:\n",
    "*    :Body mass index:\n",
    "*    :Average blood pressure:\n",
    "*    :S1:\n",
    "*    :S2:\n",
    "*    :S3:\n",
    "*    :S4:\n",
    "*    :S5:\n",
    "*    :S6:"
   ]
  },
  {
   "cell_type": "code",
   "execution_count": 23,
   "metadata": {},
   "outputs": [],
   "source": [
    "import matplotlib.pylab as plt\n",
    "import numpy as np\n",
    "%matplotlib inline\n",
    "from sklearn.linear_model import LinearRegression\n",
    "from sklearn import datasets\n",
    "from sklearn.datasets import load_diabetes\n",
    "from sklearn.preprocessing import MinMaxScaler, PolynomialFeatures"
   ]
  },
  {
   "cell_type": "code",
   "execution_count": 24,
   "metadata": {},
   "outputs": [],
   "source": [
    "# 데이터셋을 로드하세요.\n",
    "diabetes = datasets.load_diabetes() "
   ]
  },
  {
   "cell_type": "code",
   "execution_count": 25,
   "metadata": {},
   "outputs": [
    {
     "data": {
      "text/plain": [
       "(442, 10)"
      ]
     },
     "execution_count": 25,
     "metadata": {},
     "output_type": "execute_result"
    }
   ],
   "source": [
    "# feature(X값) 의 shape을 출력하세요.\n",
    "diabetes.data.shape "
   ]
  },
  {
   "cell_type": "code",
   "execution_count": 26,
   "metadata": {},
   "outputs": [
    {
     "data": {
      "text/plain": [
       "(442,)"
      ]
     },
     "execution_count": 26,
     "metadata": {},
     "output_type": "execute_result"
    }
   ],
   "source": [
    "# Y값의 shape을 출력하세요.\n",
    "diabetes.target.shape  "
   ]
  },
  {
   "cell_type": "code",
   "execution_count": 27,
   "metadata": {},
   "outputs": [
    {
     "data": {
      "text/plain": [
       "['age', 'sex', 'bmi', 'bp', 's1', 's2', 's3', 's4', 's5', 's6']"
      ]
     },
     "execution_count": 27,
     "metadata": {},
     "output_type": "execute_result"
    }
   ],
   "source": [
    "# feature의 name을 출력하세요.\n",
    "diabetes.feature_names "
   ]
  },
  {
   "cell_type": "code",
   "execution_count": 38,
   "metadata": {
    "collapsed": true
   },
   "outputs": [
    {
     "data": {
      "text/plain": [
       "array([151.,  75., 141., 206., 135.,  97., 138.,  63., 110., 310., 101.,\n",
       "        69., 179., 185., 118., 171., 166., 144.,  97., 168.,  68.,  49.,\n",
       "        68., 245., 184., 202., 137.,  85., 131., 283., 129.,  59., 341.,\n",
       "        87.,  65., 102., 265., 276., 252.,  90., 100.,  55.,  61.,  92.,\n",
       "       259.,  53., 190., 142.,  75., 142., 155., 225.,  59., 104., 182.,\n",
       "       128.,  52.,  37., 170., 170.,  61., 144.,  52., 128.,  71., 163.,\n",
       "       150.,  97., 160., 178.,  48., 270., 202., 111.,  85.,  42., 170.,\n",
       "       200., 252., 113., 143.,  51.,  52., 210.,  65., 141.,  55., 134.,\n",
       "        42., 111.,  98., 164.,  48.,  96.,  90., 162., 150., 279.,  92.,\n",
       "        83., 128., 102., 302., 198.,  95.,  53., 134., 144., 232.,  81.,\n",
       "       104.,  59., 246., 297., 258., 229., 275., 281., 179., 200., 200.,\n",
       "       173., 180.,  84., 121., 161.,  99., 109., 115., 268., 274., 158.,\n",
       "       107.,  83., 103., 272.,  85., 280., 336., 281., 118., 317., 235.,\n",
       "        60., 174., 259., 178., 128.,  96., 126., 288.,  88., 292.,  71.,\n",
       "       197., 186.,  25.,  84.,  96., 195.,  53., 217., 172., 131., 214.,\n",
       "        59.,  70., 220., 268., 152.,  47.,  74., 295., 101., 151., 127.,\n",
       "       237., 225.,  81., 151., 107.,  64., 138., 185., 265., 101., 137.,\n",
       "       143., 141.,  79., 292., 178.,  91., 116.,  86., 122.,  72., 129.,\n",
       "       142.,  90., 158.,  39., 196., 222., 277.,  99., 196., 202., 155.,\n",
       "        77., 191.,  70.,  73.,  49.,  65., 263., 248., 296., 214., 185.,\n",
       "        78.,  93., 252., 150.,  77., 208.,  77., 108., 160.,  53., 220.,\n",
       "       154., 259.,  90., 246., 124.,  67.,  72., 257., 262., 275., 177.,\n",
       "        71.,  47., 187., 125.,  78.,  51., 258., 215., 303., 243.,  91.,\n",
       "       150., 310., 153., 346.,  63.,  89.,  50.,  39., 103., 308., 116.,\n",
       "       145.,  74.,  45., 115., 264.,  87., 202., 127., 182., 241.,  66.,\n",
       "        94., 283.,  64., 102., 200., 265.,  94., 230., 181., 156., 233.,\n",
       "        60., 219.,  80.,  68., 332., 248.,  84., 200.,  55.,  85.,  89.,\n",
       "        31., 129.,  83., 275.,  65., 198., 236., 253., 124.,  44., 172.,\n",
       "       114., 142., 109., 180., 144., 163., 147.,  97., 220., 190., 109.,\n",
       "       191., 122., 230., 242., 248., 249., 192., 131., 237.,  78., 135.,\n",
       "       244., 199., 270., 164.,  72.,  96., 306.,  91., 214.,  95., 216.,\n",
       "       263., 178., 113., 200., 139., 139.,  88., 148.,  88., 243.,  71.,\n",
       "        77., 109., 272.,  60.,  54., 221.,  90., 311., 281., 182., 321.,\n",
       "        58., 262., 206., 233., 242., 123., 167.,  63., 197.,  71., 168.,\n",
       "       140., 217., 121., 235., 245.,  40.,  52., 104., 132.,  88.,  69.,\n",
       "       219.,  72., 201., 110.,  51., 277.,  63., 118.,  69., 273., 258.,\n",
       "        43., 198., 242., 232., 175.,  93., 168., 275., 293., 281.,  72.,\n",
       "       140., 189., 181., 209., 136., 261., 113., 131., 174., 257.,  55.,\n",
       "        84.,  42., 146., 212., 233.,  91., 111., 152., 120.,  67., 310.,\n",
       "        94., 183.,  66., 173.,  72.,  49.,  64.,  48., 178., 104., 132.,\n",
       "       220.,  57.])"
      ]
     },
     "execution_count": 38,
     "metadata": {},
     "output_type": "execute_result"
    }
   ],
   "source": [
    "# y값을 출력하세요.\n",
    "diabetes.target"
   ]
  },
  {
   "cell_type": "code",
   "execution_count": 39,
   "metadata": {},
   "outputs": [
    {
     "name": "stdout",
     "output_type": "stream",
     "text": [
      ".. _diabetes_dataset:\n",
      "\n",
      "Diabetes dataset\n",
      "----------------\n",
      "\n",
      "Ten baseline variables, age, sex, body mass index, average blood\n",
      "pressure, and six blood serum measurements were obtained for each of n =\n",
      "442 diabetes patients, as well as the response of interest, a\n",
      "quantitative measure of disease progression one year after baseline.\n",
      "\n",
      "**Data Set Characteristics:**\n",
      "\n",
      "  :Number of Instances: 442\n",
      "\n",
      "  :Number of Attributes: First 10 columns are numeric predictive values\n",
      "\n",
      "  :Target: Column 11 is a quantitative measure of disease progression one year after baseline\n",
      "\n",
      "  :Attribute Information:\n",
      "      - age     age in years\n",
      "      - sex\n",
      "      - bmi     body mass index\n",
      "      - bp      average blood pressure\n",
      "      - s1      tc, T-Cells (a type of white blood cells)\n",
      "      - s2      ldl, low-density lipoproteins\n",
      "      - s3      hdl, high-density lipoproteins\n",
      "      - s4      tch, thyroid stimulating hormone\n",
      "      - s5      ltg, lamotrigine\n",
      "      - s6      glu, blood sugar level\n",
      "\n",
      "Note: Each of these 10 feature variables have been mean centered and scaled by the standard deviation times `n_samples` (i.e. the sum of squares of each column totals 1).\n",
      "\n",
      "Source URL:\n",
      "https://www4.stat.ncsu.edu/~boos/var.select/diabetes.html\n",
      "\n",
      "For more information see:\n",
      "Bradley Efron, Trevor Hastie, Iain Johnstone and Robert Tibshirani (2004) \"Least Angle Regression,\" Annals of Statistics (with discussion), 407-499.\n",
      "(https://web.stanford.edu/~hastie/Papers/LARS/LeastAngle_2002.pdf)\n"
     ]
    }
   ],
   "source": [
    "print(diabetes.DESCR)"
   ]
  },
  {
   "cell_type": "markdown",
   "metadata": {},
   "source": [
    "## Modeling"
   ]
  },
  {
   "cell_type": "code",
   "execution_count": 28,
   "metadata": {},
   "outputs": [],
   "source": [
    "# 데이터를 train 데이터와 test 데이터로 분리하세요(비율은 8:2)\n",
    "# random_state는 0을 주세요.\n",
    "\n",
    "from sklearn.model_selection import train_test_split\n",
    "X_train, X_test, y_train, y_test = train_test_split(diabetes.data, diabetes.target, test_size=0.2, random_state=0)"
   ]
  },
  {
   "cell_type": "code",
   "execution_count": 29,
   "metadata": {},
   "outputs": [
    {
     "data": {
      "text/plain": [
       "LinearRegression()"
      ]
     },
     "execution_count": 29,
     "metadata": {},
     "output_type": "execute_result"
    }
   ],
   "source": [
    "# 회귀모델링을 하고, 학습시켜보세요.\n",
    "model = LinearRegression()\n",
    "model.fit(X_train, y_train)"
   ]
  },
  {
   "cell_type": "code",
   "execution_count": 30,
   "metadata": {},
   "outputs": [
    {
     "data": {
      "text/plain": [
       "(0.5539285357415584, 0.3322220326906513)"
      ]
     },
     "execution_count": 30,
     "metadata": {},
     "output_type": "execute_result"
    }
   ],
   "source": [
    "# 학습데이터와 테스트데이터에 대해 R-squared(점수)를 출력하세요.\n",
    "model.score(X_train, y_train), model.score(X_test, y_test)"
   ]
  },
  {
   "cell_type": "code",
   "execution_count": 31,
   "metadata": {},
   "outputs": [
    {
     "data": {
      "text/plain": [
       "array([ -35.55683674, -243.1692265 ,  562.75404632,  305.47203008,\n",
       "       -662.78772128,  324.27527477,   24.78193291,  170.33056502,\n",
       "        731.67810787,   43.02846824])"
      ]
     },
     "execution_count": 31,
     "metadata": {},
     "output_type": "execute_result"
    }
   ],
   "source": [
    "# 학습된 회귀계수(coefficient) 를 출력하세요.\n",
    "model.coef_  "
   ]
  },
  {
   "cell_type": "code",
   "execution_count": 32,
   "metadata": {},
   "outputs": [
    {
     "data": {
      "text/plain": [
       "152.53813351954062"
      ]
     },
     "execution_count": 32,
     "metadata": {},
     "output_type": "execute_result"
    }
   ],
   "source": [
    "# 학습된 intercept 를  출력하세요.\n",
    "model.intercept_ "
   ]
  },
  {
   "cell_type": "code",
   "execution_count": 33,
   "metadata": {},
   "outputs": [
    {
     "data": {
      "text/plain": [
       "array([238.47145247, 248.93170646, 164.05404165, 120.30794355,\n",
       "       187.42422054, 259.04865002, 113.55556372, 188.07597044,\n",
       "       149.49663441, 236.01099949, 172.24629506, 178.88073764,\n",
       "       109.15751983,  92.13508975, 243.33042043,  87.356971  ,\n",
       "       155.72606406,  66.99073989, 100.42610442, 218.09422877,\n",
       "       196.66287912, 161.29832968, 161.70779605, 156.52520454,\n",
       "       197.88796516, 167.57984206, 120.74478913,  84.83879727,\n",
       "       192.03728687, 160.60687024, 175.17178362,  84.22833237,\n",
       "       145.7995542 , 145.97333493, 140.96488953, 197.00421108,\n",
       "       165.94322494, 190.65906468, 128.22520508, 206.41941223,\n",
       "        84.35851196, 164.0256504 , 144.1056776 , 184.68355549,\n",
       "       177.80238966,  74.32855231, 143.3660286 , 138.67726085,\n",
       "       120.81146113, 234.34252077, 161.94390244,  74.5455476 ,\n",
       "       154.71905074, 156.78884927, 237.42227096, 174.23053048,\n",
       "       190.88212635, 118.98373473, 132.20418974, 168.52674824,\n",
       "       214.74245466, 171.42364091, 157.37409906, 108.86927343,\n",
       "       257.06329636, 152.17777143,  82.43686464, 231.56746032,\n",
       "       202.90641336,  47.18340199,  78.46954525, 129.30170908,\n",
       "       104.60253144, 144.65200281, 132.27974254, 190.04134164,\n",
       "        97.55541138, 197.51891007, 219.13709291, 186.13797012,\n",
       "       149.60913007, 208.42379455,  44.59036026, 206.20925368,\n",
       "        76.77377721,  94.94046865, 145.2955051 , 194.03776373,\n",
       "       132.78534336])"
      ]
     },
     "execution_count": 33,
     "metadata": {},
     "output_type": "execute_result"
    }
   ],
   "source": [
    "#  X_test 데이터에 대해 예측을 수행하세요.\n",
    "model.predict(X_test) "
   ]
  },
  {
   "cell_type": "code",
   "execution_count": null,
   "metadata": {},
   "outputs": [],
   "source": [
    "# X데이터에 대해 예측을 수행하고, 수행결과를 y_pred 변수에 담으세요. \n",
    "y_pred = model.predict(X_test) "
   ]
  },
  {
   "cell_type": "code",
   "execution_count": 37,
   "metadata": {},
   "outputs": [
    {
     "data": {
      "image/png": "[encoded data removed]",
      "text/plain": [
       "<Figure size 432x288 with 1 Axes>"
      ]
     },
     "metadata": {},
     "output_type": "display_data"
    }
   ],
   "source": [
    "# 아래와 같이 예측 데이터를 plotting 하세요.\n",
    "plt.plot(y_test, y_pred, '.')\n",
    "x = np.linspace(0, 330, 100)\n",
    "y = x\n",
    "plt.plot(x, y)\n",
    "plt.xlabel('y_test')\n",
    "plt.ylabel('y_pred')\n",
    "plt.show()"
   ]
  },
  {
   "cell_type": "code",
   "execution_count": null,
   "metadata": {},
   "outputs": [],
   "source": []
  },
  {
   "cell_type": "markdown",
   "metadata": {},
   "source": [
    "### 성능개선 "
   ]
  },
  {
   "cell_type": "code",
   "execution_count": 13,
   "metadata": {},
   "outputs": [],
   "source": [
    "#  load_data 라는 함수를 만드세요. \n",
    "# 함수는 diabetes 데이터를 로드해서, \n",
    "# MinMaxScaler 를 적용하고, \n",
    "# Polynormial Feature 를 적용해서 \n",
    "# 최종적으로 X 값과 y 값을 리턴하는 함수입니다. \n",
    "\n",
    "def load_data():\n",
    "    d = load_diabetes()\n",
    "    X = MinMaxScaler().fit_transform(d.data)\n",
    "    P = PolynomialFeatures(degree=4, include_bias=False)\n",
    "    X = P.fit_transform(X)\n",
    "    print(P.get_feature_names())\n",
    "    return X, d.target"
   ]
  },
  {
   "cell_type": "code",
   "execution_count": 14,
   "metadata": {},
   "outputs": [
    {
     "name": "stdout",
     "output_type": "stream",
     "text": [
      "['x0', 'x1', 'x2', 'x3', 'x4', 'x5', 'x6', 'x7', 'x8', 'x9', 'x0^2', 'x0 x1', 'x0 x2', 'x0 x3', 'x0 x4', 'x0 x5', 'x0 x6', 'x0 x7', 'x0 x8', 'x0 x9', 'x1^2', 'x1 x2', 'x1 x3', 'x1 x4', 'x1 x5', 'x1 x6', 'x1 x7', 'x1 x8', 'x1 x9', 'x2^2', 'x2 x3', 'x2 x4', 'x2 x5', 'x2 x6', 'x2 x7', 'x2 x8', 'x2 x9', 'x3^2', 'x3 x4', 'x3 x5', 'x3 x6', 'x3 x7', 'x3 x8', 'x3 x9', 'x4^2', 'x4 x5', 'x4 x6', 'x4 x7', 'x4 x8', 'x4 x9', 'x5^2', 'x5 x6', 'x5 x7', 'x5 x8', 'x5 x9', 'x6^2', 'x6 x7', 'x6 x8', 'x6 x9', 'x7^2', 'x7 x8', 'x7 x9', 'x8^2', 'x8 x9', 'x9^2', 'x0^3', 'x0^2 x1', 'x0^2 x2', 'x0^2 x3', 'x0^2 x4', 'x0^2 x5', 'x0^2 x6', 'x0^2 x7', 'x0^2 x8', 'x0^2 x9', 'x0 x1^2', 'x0 x1 x2', 'x0 x1 x3', 'x0 x1 x4', 'x0 x1 x5', 'x0 x1 x6', 'x0 x1 x7', 'x0 x1 x8', 'x0 x1 x9', 'x0 x2^2', 'x0 x2 x3', 'x0 x2 x4', 'x0 x2 x5', 'x0 x2 x6', 'x0 x2 x7', 'x0 x2 x8', 'x0 x2 x9', 'x0 x3^2', 'x0 x3 x4', 'x0 x3 x5', 'x0 x3 x6', 'x0 x3 x7', 'x0 x3 x8', 'x0 x3 x9', 'x0 x4^2', 'x0 x4 x5', 'x0 x4 x6', 'x0 x4 x7', 'x0 x4 x8', 'x0 x4 x9', 'x0 x5^2', 'x0 x5 x6', 'x0 x5 x7', 'x0 x5 x8', 'x0 x5 x9', 'x0 x6^2', 'x0 x6 x7', 'x0 x6 x8', 'x0 x6 x9', 'x0 x7^2', 'x0 x7 x8', 'x0 x7 x9', 'x0 x8^2', 'x0 x8 x9', 'x0 x9^2', 'x1^3', 'x1^2 x2', 'x1^2 x3', 'x1^2 x4', 'x1^2 x5', 'x1^2 x6', 'x1^2 x7', 'x1^2 x8', 'x1^2 x9', 'x1 x2^2', 'x1 x2 x3', 'x1 x2 x4', 'x1 x2 x5', 'x1 x2 x6', 'x1 x2 x7', 'x1 x2 x8', 'x1 x2 x9', 'x1 x3^2', 'x1 x3 x4', 'x1 x3 x5', 'x1 x3 x6', 'x1 x3 x7', 'x1 x3 x8', 'x1 x3 x9', 'x1 x4^2', 'x1 x4 x5', 'x1 x4 x6', 'x1 x4 x7', 'x1 x4 x8', 'x1 x4 x9', 'x1 x5^2', 'x1 x5 x6', 'x1 x5 x7', 'x1 x5 x8', 'x1 x5 x9', 'x1 x6^2', 'x1 x6 x7', 'x1 x6 x8', 'x1 x6 x9', 'x1 x7^2', 'x1 x7 x8', 'x1 x7 x9', 'x1 x8^2', 'x1 x8 x9', 'x1 x9^2', 'x2^3', 'x2^2 x3', 'x2^2 x4', 'x2^2 x5', 'x2^2 x6', 'x2^2 x7', 'x2^2 x8', 'x2^2 x9', 'x2 x3^2', 'x2 x3 x4', 'x2 x3 x5', 'x2 x3 x6', 'x2 x3 x7', 'x2 x3 x8', 'x2 x3 x9', 'x2 x4^2', 'x2 x4 x5', 'x2 x4 x6', 'x2 x4 x7', 'x2 x4 x8', 'x2 x4 x9', 'x2 x5^2', 'x2 x5 x6', 'x2 x5 x7', 'x2 x5 x8', 'x2 x5 x9', 'x2 x6^2', 'x2 x6 x7', 'x2 x6 x8', 'x2 x6 x9', 'x2 x7^2', 'x2 x7 x8', 'x2 x7 x9', 'x2 x8^2', 'x2 x8 x9', 'x2 x9^2', 'x3^3', 'x3^2 x4', 'x3^2 x5', 'x3^2 x6', 'x3^2 x7', 'x3^2 x8', 'x3^2 x9', 'x3 x4^2', 'x3 x4 x5', 'x3 x4 x6', 'x3 x4 x7', 'x3 x4 x8', 'x3 x4 x9', 'x3 x5^2', 'x3 x5 x6', 'x3 x5 x7', 'x3 x5 x8', 'x3 x5 x9', 'x3 x6^2', 'x3 x6 x7', 'x3 x6 x8', 'x3 x6 x9', 'x3 x7^2', 'x3 x7 x8', 'x3 x7 x9', 'x3 x8^2', 'x3 x8 x9', 'x3 x9^2', 'x4^3', 'x4^2 x5', 'x4^2 x6', 'x4^2 x7', 'x4^2 x8', 'x4^2 x9', 'x4 x5^2', 'x4 x5 x6', 'x4 x5 x7', 'x4 x5 x8', 'x4 x5 x9', 'x4 x6^2', 'x4 x6 x7', 'x4 x6 x8', 'x4 x6 x9', 'x4 x7^2', 'x4 x7 x8', 'x4 x7 x9', 'x4 x8^2', 'x4 x8 x9', 'x4 x9^2', 'x5^3', 'x5^2 x6', 'x5^2 x7', 'x5^2 x8', 'x5^2 x9', 'x5 x6^2', 'x5 x6 x7', 'x5 x6 x8', 'x5 x6 x9', 'x5 x7^2', 'x5 x7 x8', 'x5 x7 x9', 'x5 x8^2', 'x5 x8 x9', 'x5 x9^2', 'x6^3', 'x6^2 x7', 'x6^2 x8', 'x6^2 x9', 'x6 x7^2', 'x6 x7 x8', 'x6 x7 x9', 'x6 x8^2', 'x6 x8 x9', 'x6 x9^2', 'x7^3', 'x7^2 x8', 'x7^2 x9', 'x7 x8^2', 'x7 x8 x9', 'x7 x9^2', 'x8^3', 'x8^2 x9', 'x8 x9^2', 'x9^3', 'x0^4', 'x0^3 x1', 'x0^3 x2', 'x0^3 x3', 'x0^3 x4', 'x0^3 x5', 'x0^3 x6', 'x0^3 x7', 'x0^3 x8', 'x0^3 x9', 'x0^2 x1^2', 'x0^2 x1 x2', 'x0^2 x1 x3', 'x0^2 x1 x4', 'x0^2 x1 x5', 'x0^2 x1 x6', 'x0^2 x1 x7', 'x0^2 x1 x8', 'x0^2 x1 x9', 'x0^2 x2^2', 'x0^2 x2 x3', 'x0^2 x2 x4', 'x0^2 x2 x5', 'x0^2 x2 x6', 'x0^2 x2 x7', 'x0^2 x2 x8', 'x0^2 x2 x9', 'x0^2 x3^2', 'x0^2 x3 x4', 'x0^2 x3 x5', 'x0^2 x3 x6', 'x0^2 x3 x7', 'x0^2 x3 x8', 'x0^2 x3 x9', 'x0^2 x4^2', 'x0^2 x4 x5', 'x0^2 x4 x6', 'x0^2 x4 x7', 'x0^2 x4 x8', 'x0^2 x4 x9', 'x0^2 x5^2', 'x0^2 x5 x6', 'x0^2 x5 x7', 'x0^2 x5 x8', 'x0^2 x5 x9', 'x0^2 x6^2', 'x0^2 x6 x7', 'x0^2 x6 x8', 'x0^2 x6 x9', 'x0^2 x7^2', 'x0^2 x7 x8', 'x0^2 x7 x9', 'x0^2 x8^2', 'x0^2 x8 x9', 'x0^2 x9^2', 'x0 x1^3', 'x0 x1^2 x2', 'x0 x1^2 x3', 'x0 x1^2 x4', 'x0 x1^2 x5', 'x0 x1^2 x6', 'x0 x1^2 x7', 'x0 x1^2 x8', 'x0 x1^2 x9', 'x0 x1 x2^2', 'x0 x1 x2 x3', 'x0 x1 x2 x4', 'x0 x1 x2 x5', 'x0 x1 x2 x6', 'x0 x1 x2 x7', 'x0 x1 x2 x8', 'x0 x1 x2 x9', 'x0 x1 x3^2', 'x0 x1 x3 x4', 'x0 x1 x3 x5', 'x0 x1 x3 x6', 'x0 x1 x3 x7', 'x0 x1 x3 x8', 'x0 x1 x3 x9', 'x0 x1 x4^2', 'x0 x1 x4 x5', 'x0 x1 x4 x6', 'x0 x1 x4 x7', 'x0 x1 x4 x8', 'x0 x1 x4 x9', 'x0 x1 x5^2', 'x0 x1 x5 x6', 'x0 x1 x5 x7', 'x0 x1 x5 x8', 'x0 x1 x5 x9', 'x0 x1 x6^2', 'x0 x1 x6 x7', 'x0 x1 x6 x8', 'x0 x1 x6 x9', 'x0 x1 x7^2', 'x0 x1 x7 x8', 'x0 x1 x7 x9', 'x0 x1 x8^2', 'x0 x1 x8 x9', 'x0 x1 x9^2', 'x0 x2^3', 'x0 x2^2 x3', 'x0 x2^2 x4', 'x0 x2^2 x5', 'x0 x2^2 x6', 'x0 x2^2 x7', 'x0 x2^2 x8', 'x0 x2^2 x9', 'x0 x2 x3^2', 'x0 x2 x3 x4', 'x0 x2 x3 x5', 'x0 x2 x3 x6', 'x0 x2 x3 x7', 'x0 x2 x3 x8', 'x0 x2 x3 x9', 'x0 x2 x4^2', 'x0 x2 x4 x5', 'x0 x2 x4 x6', 'x0 x2 x4 x7', 'x0 x2 x4 x8', 'x0 x2 x4 x9', 'x0 x2 x5^2', 'x0 x2 x5 x6', 'x0 x2 x5 x7', 'x0 x2 x5 x8', 'x0 x2 x5 x9', 'x0 x2 x6^2', 'x0 x2 x6 x7', 'x0 x2 x6 x8', 'x0 x2 x6 x9', 'x0 x2 x7^2', 'x0 x2 x7 x8', 'x0 x2 x7 x9', 'x0 x2 x8^2', 'x0 x2 x8 x9', 'x0 x2 x9^2', 'x0 x3^3', 'x0 x3^2 x4', 'x0 x3^2 x5', 'x0 x3^2 x6', 'x0 x3^2 x7', 'x0 x3^2 x8', 'x0 x3^2 x9', 'x0 x3 x4^2', 'x0 x3 x4 x5', 'x0 x3 x4 x6', 'x0 x3 x4 x7', 'x0 x3 x4 x8', 'x0 x3 x4 x9', 'x0 x3 x5^2', 'x0 x3 x5 x6', 'x0 x3 x5 x7', 'x0 x3 x5 x8', 'x0 x3 x5 x9', 'x0 x3 x6^2', 'x0 x3 x6 x7', 'x0 x3 x6 x8', 'x0 x3 x6 x9', 'x0 x3 x7^2', 'x0 x3 x7 x8', 'x0 x3 x7 x9', 'x0 x3 x8^2', 'x0 x3 x8 x9', 'x0 x3 x9^2', 'x0 x4^3', 'x0 x4^2 x5', 'x0 x4^2 x6', 'x0 x4^2 x7', 'x0 x4^2 x8', 'x0 x4^2 x9', 'x0 x4 x5^2', 'x0 x4 x5 x6', 'x0 x4 x5 x7', 'x0 x4 x5 x8', 'x0 x4 x5 x9', 'x0 x4 x6^2', 'x0 x4 x6 x7', 'x0 x4 x6 x8', 'x0 x4 x6 x9', 'x0 x4 x7^2', 'x0 x4 x7 x8', 'x0 x4 x7 x9', 'x0 x4 x8^2', 'x0 x4 x8 x9', 'x0 x4 x9^2', 'x0 x5^3', 'x0 x5^2 x6', 'x0 x5^2 x7', 'x0 x5^2 x8', 'x0 x5^2 x9', 'x0 x5 x6^2', 'x0 x5 x6 x7', 'x0 x5 x6 x8', 'x0 x5 x6 x9', 'x0 x5 x7^2', 'x0 x5 x7 x8', 'x0 x5 x7 x9', 'x0 x5 x8^2', 'x0 x5 x8 x9', 'x0 x5 x9^2', 'x0 x6^3', 'x0 x6^2 x7', 'x0 x6^2 x8', 'x0 x6^2 x9', 'x0 x6 x7^2', 'x0 x6 x7 x8', 'x0 x6 x7 x9', 'x0 x6 x8^2', 'x0 x6 x8 x9', 'x0 x6 x9^2', 'x0 x7^3', 'x0 x7^2 x8', 'x0 x7^2 x9', 'x0 x7 x8^2', 'x0 x7 x8 x9', 'x0 x7 x9^2', 'x0 x8^3', 'x0 x8^2 x9', 'x0 x8 x9^2', 'x0 x9^3', 'x1^4', 'x1^3 x2', 'x1^3 x3', 'x1^3 x4', 'x1^3 x5', 'x1^3 x6', 'x1^3 x7', 'x1^3 x8', 'x1^3 x9', 'x1^2 x2^2', 'x1^2 x2 x3', 'x1^2 x2 x4', 'x1^2 x2 x5', 'x1^2 x2 x6', 'x1^2 x2 x7', 'x1^2 x2 x8', 'x1^2 x2 x9', 'x1^2 x3^2', 'x1^2 x3 x4', 'x1^2 x3 x5', 'x1^2 x3 x6', 'x1^2 x3 x7', 'x1^2 x3 x8', 'x1^2 x3 x9', 'x1^2 x4^2', 'x1^2 x4 x5', 'x1^2 x4 x6', 'x1^2 x4 x7', 'x1^2 x4 x8', 'x1^2 x4 x9', 'x1^2 x5^2', 'x1^2 x5 x6', 'x1^2 x5 x7', 'x1^2 x5 x8', 'x1^2 x5 x9', 'x1^2 x6^2', 'x1^2 x6 x7', 'x1^2 x6 x8', 'x1^2 x6 x9', 'x1^2 x7^2', 'x1^2 x7 x8', 'x1^2 x7 x9', 'x1^2 x8^2', 'x1^2 x8 x9', 'x1^2 x9^2', 'x1 x2^3', 'x1 x2^2 x3', 'x1 x2^2 x4', 'x1 x2^2 x5', 'x1 x2^2 x6', 'x1 x2^2 x7', 'x1 x2^2 x8', 'x1 x2^2 x9', 'x1 x2 x3^2', 'x1 x2 x3 x4', 'x1 x2 x3 x5', 'x1 x2 x3 x6', 'x1 x2 x3 x7', 'x1 x2 x3 x8', 'x1 x2 x3 x9', 'x1 x2 x4^2', 'x1 x2 x4 x5', 'x1 x2 x4 x6', 'x1 x2 x4 x7', 'x1 x2 x4 x8', 'x1 x2 x4 x9', 'x1 x2 x5^2', 'x1 x2 x5 x6', 'x1 x2 x5 x7', 'x1 x2 x5 x8', 'x1 x2 x5 x9', 'x1 x2 x6^2', 'x1 x2 x6 x7', 'x1 x2 x6 x8', 'x1 x2 x6 x9', 'x1 x2 x7^2', 'x1 x2 x7 x8', 'x1 x2 x7 x9', 'x1 x2 x8^2', 'x1 x2 x8 x9', 'x1 x2 x9^2', 'x1 x3^3', 'x1 x3^2 x4', 'x1 x3^2 x5', 'x1 x3^2 x6', 'x1 x3^2 x7', 'x1 x3^2 x8', 'x1 x3^2 x9', 'x1 x3 x4^2', 'x1 x3 x4 x5', 'x1 x3 x4 x6', 'x1 x3 x4 x7', 'x1 x3 x4 x8', 'x1 x3 x4 x9', 'x1 x3 x5^2', 'x1 x3 x5 x6', 'x1 x3 x5 x7', 'x1 x3 x5 x8', 'x1 x3 x5 x9', 'x1 x3 x6^2', 'x1 x3 x6 x7', 'x1 x3 x6 x8', 'x1 x3 x6 x9', 'x1 x3 x7^2', 'x1 x3 x7 x8', 'x1 x3 x7 x9', 'x1 x3 x8^2', 'x1 x3 x8 x9', 'x1 x3 x9^2', 'x1 x4^3', 'x1 x4^2 x5', 'x1 x4^2 x6', 'x1 x4^2 x7', 'x1 x4^2 x8', 'x1 x4^2 x9', 'x1 x4 x5^2', 'x1 x4 x5 x6', 'x1 x4 x5 x7', 'x1 x4 x5 x8', 'x1 x4 x5 x9', 'x1 x4 x6^2', 'x1 x4 x6 x7', 'x1 x4 x6 x8', 'x1 x4 x6 x9', 'x1 x4 x7^2', 'x1 x4 x7 x8', 'x1 x4 x7 x9', 'x1 x4 x8^2', 'x1 x4 x8 x9', 'x1 x4 x9^2', 'x1 x5^3', 'x1 x5^2 x6', 'x1 x5^2 x7', 'x1 x5^2 x8', 'x1 x5^2 x9', 'x1 x5 x6^2', 'x1 x5 x6 x7', 'x1 x5 x6 x8', 'x1 x5 x6 x9', 'x1 x5 x7^2', 'x1 x5 x7 x8', 'x1 x5 x7 x9', 'x1 x5 x8^2', 'x1 x5 x8 x9', 'x1 x5 x9^2', 'x1 x6^3', 'x1 x6^2 x7', 'x1 x6^2 x8', 'x1 x6^2 x9', 'x1 x6 x7^2', 'x1 x6 x7 x8', 'x1 x6 x7 x9', 'x1 x6 x8^2', 'x1 x6 x8 x9', 'x1 x6 x9^2', 'x1 x7^3', 'x1 x7^2 x8', 'x1 x7^2 x9', 'x1 x7 x8^2', 'x1 x7 x8 x9', 'x1 x7 x9^2', 'x1 x8^3', 'x1 x8^2 x9', 'x1 x8 x9^2', 'x1 x9^3', 'x2^4', 'x2^3 x3', 'x2^3 x4', 'x2^3 x5', 'x2^3 x6', 'x2^3 x7', 'x2^3 x8', 'x2^3 x9', 'x2^2 x3^2', 'x2^2 x3 x4', 'x2^2 x3 x5', 'x2^2 x3 x6', 'x2^2 x3 x7', 'x2^2 x3 x8', 'x2^2 x3 x9', 'x2^2 x4^2', 'x2^2 x4 x5', 'x2^2 x4 x6', 'x2^2 x4 x7', 'x2^2 x4 x8', 'x2^2 x4 x9', 'x2^2 x5^2', 'x2^2 x5 x6', 'x2^2 x5 x7', 'x2^2 x5 x8', 'x2^2 x5 x9', 'x2^2 x6^2', 'x2^2 x6 x7', 'x2^2 x6 x8', 'x2^2 x6 x9', 'x2^2 x7^2', 'x2^2 x7 x8', 'x2^2 x7 x9', 'x2^2 x8^2', 'x2^2 x8 x9', 'x2^2 x9^2', 'x2 x3^3', 'x2 x3^2 x4', 'x2 x3^2 x5', 'x2 x3^2 x6', 'x2 x3^2 x7', 'x2 x3^2 x8', 'x2 x3^2 x9', 'x2 x3 x4^2', 'x2 x3 x4 x5', 'x2 x3 x4 x6', 'x2 x3 x4 x7', 'x2 x3 x4 x8', 'x2 x3 x4 x9', 'x2 x3 x5^2', 'x2 x3 x5 x6', 'x2 x3 x5 x7', 'x2 x3 x5 x8', 'x2 x3 x5 x9', 'x2 x3 x6^2', 'x2 x3 x6 x7', 'x2 x3 x6 x8', 'x2 x3 x6 x9', 'x2 x3 x7^2', 'x2 x3 x7 x8', 'x2 x3 x7 x9', 'x2 x3 x8^2', 'x2 x3 x8 x9', 'x2 x3 x9^2', 'x2 x4^3', 'x2 x4^2 x5', 'x2 x4^2 x6', 'x2 x4^2 x7', 'x2 x4^2 x8', 'x2 x4^2 x9', 'x2 x4 x5^2', 'x2 x4 x5 x6', 'x2 x4 x5 x7', 'x2 x4 x5 x8', 'x2 x4 x5 x9', 'x2 x4 x6^2', 'x2 x4 x6 x7', 'x2 x4 x6 x8', 'x2 x4 x6 x9', 'x2 x4 x7^2', 'x2 x4 x7 x8', 'x2 x4 x7 x9', 'x2 x4 x8^2', 'x2 x4 x8 x9', 'x2 x4 x9^2', 'x2 x5^3', 'x2 x5^2 x6', 'x2 x5^2 x7', 'x2 x5^2 x8', 'x2 x5^2 x9', 'x2 x5 x6^2', 'x2 x5 x6 x7', 'x2 x5 x6 x8', 'x2 x5 x6 x9', 'x2 x5 x7^2', 'x2 x5 x7 x8', 'x2 x5 x7 x9', 'x2 x5 x8^2', 'x2 x5 x8 x9', 'x2 x5 x9^2', 'x2 x6^3', 'x2 x6^2 x7', 'x2 x6^2 x8', 'x2 x6^2 x9', 'x2 x6 x7^2', 'x2 x6 x7 x8', 'x2 x6 x7 x9', 'x2 x6 x8^2', 'x2 x6 x8 x9', 'x2 x6 x9^2', 'x2 x7^3', 'x2 x7^2 x8', 'x2 x7^2 x9', 'x2 x7 x8^2', 'x2 x7 x8 x9', 'x2 x7 x9^2', 'x2 x8^3', 'x2 x8^2 x9', 'x2 x8 x9^2', 'x2 x9^3', 'x3^4', 'x3^3 x4', 'x3^3 x5', 'x3^3 x6', 'x3^3 x7', 'x3^3 x8', 'x3^3 x9', 'x3^2 x4^2', 'x3^2 x4 x5', 'x3^2 x4 x6', 'x3^2 x4 x7', 'x3^2 x4 x8', 'x3^2 x4 x9', 'x3^2 x5^2', 'x3^2 x5 x6', 'x3^2 x5 x7', 'x3^2 x5 x8', 'x3^2 x5 x9', 'x3^2 x6^2', 'x3^2 x6 x7', 'x3^2 x6 x8', 'x3^2 x6 x9', 'x3^2 x7^2', 'x3^2 x7 x8', 'x3^2 x7 x9', 'x3^2 x8^2', 'x3^2 x8 x9', 'x3^2 x9^2', 'x3 x4^3', 'x3 x4^2 x5', 'x3 x4^2 x6', 'x3 x4^2 x7', 'x3 x4^2 x8', 'x3 x4^2 x9', 'x3 x4 x5^2', 'x3 x4 x5 x6', 'x3 x4 x5 x7', 'x3 x4 x5 x8', 'x3 x4 x5 x9', 'x3 x4 x6^2', 'x3 x4 x6 x7', 'x3 x4 x6 x8', 'x3 x4 x6 x9', 'x3 x4 x7^2', 'x3 x4 x7 x8', 'x3 x4 x7 x9', 'x3 x4 x8^2', 'x3 x4 x8 x9', 'x3 x4 x9^2', 'x3 x5^3', 'x3 x5^2 x6', 'x3 x5^2 x7', 'x3 x5^2 x8', 'x3 x5^2 x9', 'x3 x5 x6^2', 'x3 x5 x6 x7', 'x3 x5 x6 x8', 'x3 x5 x6 x9', 'x3 x5 x7^2', 'x3 x5 x7 x8', 'x3 x5 x7 x9', 'x3 x5 x8^2', 'x3 x5 x8 x9', 'x3 x5 x9^2', 'x3 x6^3', 'x3 x6^2 x7', 'x3 x6^2 x8', 'x3 x6^2 x9', 'x3 x6 x7^2', 'x3 x6 x7 x8', 'x3 x6 x7 x9', 'x3 x6 x8^2', 'x3 x6 x8 x9', 'x3 x6 x9^2', 'x3 x7^3', 'x3 x7^2 x8', 'x3 x7^2 x9', 'x3 x7 x8^2', 'x3 x7 x8 x9', 'x3 x7 x9^2', 'x3 x8^3', 'x3 x8^2 x9', 'x3 x8 x9^2', 'x3 x9^3', 'x4^4', 'x4^3 x5', 'x4^3 x6', 'x4^3 x7', 'x4^3 x8', 'x4^3 x9', 'x4^2 x5^2', 'x4^2 x5 x6', 'x4^2 x5 x7', 'x4^2 x5 x8', 'x4^2 x5 x9', 'x4^2 x6^2', 'x4^2 x6 x7', 'x4^2 x6 x8', 'x4^2 x6 x9', 'x4^2 x7^2', 'x4^2 x7 x8', 'x4^2 x7 x9', 'x4^2 x8^2', 'x4^2 x8 x9', 'x4^2 x9^2', 'x4 x5^3', 'x4 x5^2 x6', 'x4 x5^2 x7', 'x4 x5^2 x8', 'x4 x5^2 x9', 'x4 x5 x6^2', 'x4 x5 x6 x7', 'x4 x5 x6 x8', 'x4 x5 x6 x9', 'x4 x5 x7^2', 'x4 x5 x7 x8', 'x4 x5 x7 x9', 'x4 x5 x8^2', 'x4 x5 x8 x9', 'x4 x5 x9^2', 'x4 x6^3', 'x4 x6^2 x7', 'x4 x6^2 x8', 'x4 x6^2 x9', 'x4 x6 x7^2', 'x4 x6 x7 x8', 'x4 x6 x7 x9', 'x4 x6 x8^2', 'x4 x6 x8 x9', 'x4 x6 x9^2', 'x4 x7^3', 'x4 x7^2 x8', 'x4 x7^2 x9', 'x4 x7 x8^2', 'x4 x7 x8 x9', 'x4 x7 x9^2', 'x4 x8^3', 'x4 x8^2 x9', 'x4 x8 x9^2', 'x4 x9^3', 'x5^4', 'x5^3 x6', 'x5^3 x7', 'x5^3 x8', 'x5^3 x9', 'x5^2 x6^2', 'x5^2 x6 x7', 'x5^2 x6 x8', 'x5^2 x6 x9', 'x5^2 x7^2', 'x5^2 x7 x8', 'x5^2 x7 x9', 'x5^2 x8^2', 'x5^2 x8 x9', 'x5^2 x9^2', 'x5 x6^3', 'x5 x6^2 x7', 'x5 x6^2 x8', 'x5 x6^2 x9', 'x5 x6 x7^2', 'x5 x6 x7 x8', 'x5 x6 x7 x9', 'x5 x6 x8^2', 'x5 x6 x8 x9', 'x5 x6 x9^2', 'x5 x7^3', 'x5 x7^2 x8', 'x5 x7^2 x9', 'x5 x7 x8^2', 'x5 x7 x8 x9', 'x5 x7 x9^2', 'x5 x8^3', 'x5 x8^2 x9', 'x5 x8 x9^2', 'x5 x9^3', 'x6^4', 'x6^3 x7', 'x6^3 x8', 'x6^3 x9', 'x6^2 x7^2', 'x6^2 x7 x8', 'x6^2 x7 x9', 'x6^2 x8^2', 'x6^2 x8 x9', 'x6^2 x9^2', 'x6 x7^3', 'x6 x7^2 x8', 'x6 x7^2 x9', 'x6 x7 x8^2', 'x6 x7 x8 x9', 'x6 x7 x9^2', 'x6 x8^3', 'x6 x8^2 x9', 'x6 x8 x9^2', 'x6 x9^3', 'x7^4', 'x7^3 x8', 'x7^3 x9', 'x7^2 x8^2', 'x7^2 x8 x9', 'x7^2 x9^2', 'x7 x8^3', 'x7 x8^2 x9', 'x7 x8 x9^2', 'x7 x9^3', 'x8^4', 'x8^3 x9', 'x8^2 x9^2', 'x8 x9^3', 'x9^4']\n"
     ]
    }
   ],
   "source": [
    "# 위에서 작성한 함수를 이용하여 X 갑과 y 값을 받아오세요. \n",
    "X, y = load_data()"
   ]
  },
  {
   "cell_type": "code",
   "execution_count": 15,
   "metadata": {},
   "outputs": [],
   "source": [
    "# 위에서 가지고온 X와 y에 대해 학습데이터와 테스트 데이터로 분할하세요.\n",
    "X_train, X_test, y_train, y_test = train_test_split(X, y, random_state=0)\n"
   ]
  },
  {
   "cell_type": "code",
   "execution_count": 16,
   "metadata": {},
   "outputs": [
    {
     "data": {
      "text/plain": [
       "(1.0, -9.945862455520317)"
      ]
     },
     "execution_count": 16,
     "metadata": {},
     "output_type": "execute_result"
    }
   ],
   "source": [
    "# 모델링해보세요. \n",
    "# 아래 결과 수치는 같지 않아도 됩니다. \n",
    "lr = LinearRegression()\n",
    "lr.fit(X_train, y_train)\n",
    "lr.score(X_train, y_train), lr.score(X_test, y_test)"
   ]
  },
  {
   "cell_type": "code",
   "execution_count": 17,
   "metadata": {},
   "outputs": [
    {
     "data": {
      "text/plain": [
       "(0.6392121949385762, 0.2947081056622609)"
      ]
     },
     "execution_count": 17,
     "metadata": {},
     "output_type": "execute_result"
    }
   ],
   "source": [
    "# 오버피팅을 해결하기 위한 모델링을 해보세요. \n",
    "# 아래 결과 수치는 같지 않아도 됩니다. \n",
    "from sklearn.linear_model import Ridge\n",
    "ridge = Ridge().fit(X_train, y_train)\n",
    "ridge.score(X_train, y_train) , ridge.score(X_test, y_test)"
   ]
  },
  {
   "cell_type": "code",
   "execution_count": 18,
   "metadata": {},
   "outputs": [
    {
     "data": {
      "text/plain": [
       "(0.5842650038018982, 0.36623475335935196)"
      ]
     },
     "execution_count": 18,
     "metadata": {},
     "output_type": "execute_result"
    }
   ],
   "source": [
    "# 여러 방법으로 오버피팅 문제를 해소해 보세요.  \n",
    "# 아래 결과 수치는 같지 않아도 됩니다. \n",
    "from sklearn.linear_model import Ridge\n",
    "ridge = Ridge(alpha=10).fit(X_train, y_train)\n",
    "ridge.score(X_train, y_train) , ridge.score(X_test, y_test)"
   ]
  },
  {
   "cell_type": "code",
   "execution_count": 19,
   "metadata": {},
   "outputs": [
    {
     "data": {
      "text/plain": [
       "(0.5403940775441781, 0.3604870493775101)"
      ]
     },
     "execution_count": 19,
     "metadata": {},
     "output_type": "execute_result"
    }
   ],
   "source": [
    "from sklearn.linear_model import Lasso\n",
    "lasso = Lasso().fit(X_train, y_train)\n",
    "lasso.score(X_train, y_train), lasso.score(X_test, y_test)"
   ]
  },
  {
   "cell_type": "code",
   "execution_count": 20,
   "metadata": {},
   "outputs": [
    {
     "data": {
      "text/plain": [
       "(0.6136178332434095, 0.3493439621853892)"
      ]
     },
     "execution_count": 20,
     "metadata": {},
     "output_type": "execute_result"
    }
   ],
   "source": [
    "from sklearn.linear_model import Lasso\n",
    "lasso = Lasso(alpha=0.1).fit(X_train, y_train)\n",
    "lasso.score(X_train, y_train), lasso.score(X_test, y_test)"
   ]
  },
  {
   "cell_type": "code",
   "execution_count": 21,
   "metadata": {},
   "outputs": [
    {
     "data": {
      "text/plain": [
       "0.38228605229306156"
      ]
     },
     "execution_count": 21,
     "metadata": {},
     "output_type": "execute_result"
    }
   ],
   "source": [
    "from sklearn.linear_model import ElasticNet\n",
    "\n",
    "lm_elastic = ElasticNet(alpha=0.1) \n",
    "lm_elastic.fit(X_train, y_train)\n",
    "lm_elastic.score(X_test, y_test)"
   ]
  },
  {
   "cell_type": "code",
   "execution_count": null,
   "metadata": {},
   "outputs": [],
   "source": []
  }
 ],
 "metadata": {
  "kernelspec": {
   "display_name": "Python 3",
   "language": "python",
   "name": "python3"
  },
  "language_info": {
   "codemirror_mode": {
    "name": "ipython",
    "version": 3
   },
   "file_extension": ".py",
   "mimetype": "text/x-python",
   "name": "python",
   "nbconvert_exporter": "python",
   "pygments_lexer": "ipython3",
   "version": "3.6.5"
  }
 },
 "nbformat": 4,
 "nbformat_minor": 2
}
