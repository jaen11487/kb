{
 "cells": [
  {
   "cell_type": "code",
   "execution_count": 1,
   "metadata": {},
   "outputs": [],
   "source": [
    "from sklearn.tree import DecisionTreeClassifier\n",
    "from sklearn.datasets import load_breast_cancer\n",
    "from sklearn.model_selection import train_test_split"
   ]
  },
  {
   "cell_type": "code",
   "execution_count": 2,
   "metadata": {},
   "outputs": [],
   "source": [
    "cancer = load_breast_cancer()"
   ]
  },
  {
   "cell_type": "code",
   "execution_count": 3,
   "metadata": {},
   "outputs": [],
   "source": [
    "#데이터분할 \n",
    "X_train, X_test, y_train, y_test = train_test_split(cancer.data, cancer.target,\n",
    "                                                   random_state=0)"
   ]
  },
  {
   "cell_type": "code",
   "execution_count": 4,
   "metadata": {
    "collapsed": true
   },
   "outputs": [
    {
     "data": {
      "text/plain": [
       "DecisionTreeClassifier(ccp_alpha=0.0, class_weight=None, criterion='gini',\n",
       "                       max_depth=None, max_features=None, max_leaf_nodes=None,\n",
       "                       min_impurity_decrease=0.0, min_impurity_split=None,\n",
       "                       min_samples_leaf=1, min_samples_split=2,\n",
       "                       min_weight_fraction_leaf=0.0, presort='deprecated',\n",
       "                       random_state=0, splitter='best')"
      ]
     },
     "execution_count": 4,
     "metadata": {},
     "output_type": "execute_result"
    }
   ],
   "source": [
    "tree = DecisionTreeClassifier(random_state=0)\n",
    "tree.fit(X_train, y_train)"
   ]
  },
  {
   "cell_type": "code",
   "execution_count": 5,
   "metadata": {},
   "outputs": [
    {
     "data": {
      "text/plain": [
       "(1.0, 0.8811188811188811)"
      ]
     },
     "execution_count": 5,
     "metadata": {},
     "output_type": "execute_result"
    }
   ],
   "source": [
    "tree.score(X_train, y_train), tree.score(X_test,y_test)"
   ]
  },
  {
   "cell_type": "code",
   "execution_count": 6,
   "metadata": {},
   "outputs": [
    {
     "data": {
      "text/plain": [
       "8"
      ]
     },
     "execution_count": 6,
     "metadata": {},
     "output_type": "execute_result"
    }
   ],
   "source": [
    "tree.tree_.max_depth"
   ]
  },
  {
   "cell_type": "code",
   "execution_count": 7,
   "metadata": {},
   "outputs": [
    {
     "data": {
      "text/plain": [
       "(0.9929577464788732, 0.9020979020979021)"
      ]
     },
     "execution_count": 7,
     "metadata": {},
     "output_type": "execute_result"
    }
   ],
   "source": [
    "tree = DecisionTreeClassifier(max_depth=4 ,random_state=0)\n",
    "tree.fit(X_train, y_train)\n",
    "tree.score(X_train, y_train), tree.score(X_test,y_test)"
   ]
  },
  {
   "cell_type": "markdown",
   "metadata": {},
   "source": [
    "### 시각화"
   ]
  },
  {
   "cell_type": "code",
   "execution_count": 8,
   "metadata": {},
   "outputs": [],
   "source": [
    "from sklearn.tree import export_graphviz"
   ]
  },
  {
   "cell_type": "code",
   "execution_count": 9,
   "metadata": {},
   "outputs": [],
   "source": [
    "export_graphviz(tree, out_file='tree.dot', class_names=['cancer','normal']\n",
    "               ,feature_names=cancer.feature_names, impurity=False, filled=True)"
   ]
  },
  {
   "cell_type": "markdown",
   "metadata": {},
   "source": [
    "### 특성 중요도"
   ]
  },
  {
   "cell_type": "code",
   "execution_count": 10,
   "metadata": {
    "collapsed": true
   },
   "outputs": [
    {
     "data": {
      "text/plain": [
       "array([0.        , 0.        , 0.        , 0.        , 0.        ,\n",
       "       0.        , 0.        , 0.72099985, 0.        , 0.        ,\n",
       "       0.        , 0.        , 0.02007711, 0.01727487, 0.        ,\n",
       "       0.        , 0.        , 0.        , 0.0124106 , 0.        ,\n",
       "       0.        , 0.05097828, 0.        , 0.11722141, 0.        ,\n",
       "       0.03525964, 0.01026499, 0.        , 0.        , 0.01551325])"
      ]
     },
     "execution_count": 10,
     "metadata": {},
     "output_type": "execute_result"
    }
   ],
   "source": [
    "tree.feature_importances_"
   ]
  },
  {
   "cell_type": "code",
   "execution_count": 11,
   "metadata": {},
   "outputs": [],
   "source": [
    "import matplotlib.pyplot as plt \n",
    "import numpy as np"
   ]
  },
  {
   "cell_type": "code",
   "execution_count": 15,
   "metadata": {},
   "outputs": [
    {
     "data": {
      "image/png": "[encoded data removed]",
      "text/plain": [
       "<Figure size 432x288 with 1 Axes>"
      ]
     },
     "metadata": {
      "needs_background": "light"
     },
     "output_type": "display_data"
    }
   ],
   "source": [
    "def plot_feature(model):\n",
    "    plt.barh(range(30), model.feature_importances_)\n",
    "    plt.yticks(np.arange(30), cancer.feature_names)\n",
    "    plt.xlabel('feature importance')\n",
    "    plt.ylabel('feature')\n",
    "    plt.show()\n",
    "plot_feature(tree)    "
   ]
  },
  {
   "cell_type": "markdown",
   "metadata": {},
   "source": [
    "### RandomForest"
   ]
  },
  {
   "cell_type": "code",
   "execution_count": 16,
   "metadata": {},
   "outputs": [],
   "source": [
    "from sklearn.ensemble import RandomForestClassifier"
   ]
  },
  {
   "cell_type": "code",
   "execution_count": 17,
   "metadata": {
    "collapsed": true
   },
   "outputs": [
    {
     "data": {
      "text/plain": [
       "RandomForestClassifier(bootstrap=True, ccp_alpha=0.0, class_weight=None,\n",
       "                       criterion='gini', max_depth=None, max_features='auto',\n",
       "                       max_leaf_nodes=None, max_samples=None,\n",
       "                       min_impurity_decrease=0.0, min_impurity_split=None,\n",
       "                       min_samples_leaf=1, min_samples_split=2,\n",
       "                       min_weight_fraction_leaf=0.0, n_estimators=100,\n",
       "                       n_jobs=None, oob_score=False, random_state=2, verbose=0,\n",
       "                       warm_start=False)"
      ]
     },
     "execution_count": 17,
     "metadata": {},
     "output_type": "execute_result"
    }
   ],
   "source": [
    "forest = RandomForestClassifier(random_state=2)\n",
    "forest.fit(X_train, y_train)"
   ]
  },
  {
   "cell_type": "code",
   "execution_count": 18,
   "metadata": {},
   "outputs": [
    {
     "data": {
      "text/plain": [
       "(1.0, 0.9790209790209791)"
      ]
     },
     "execution_count": 18,
     "metadata": {},
     "output_type": "execute_result"
    }
   ],
   "source": [
    "forest.score(X_train, y_train), forest.score(X_test, y_test)"
   ]
  },
  {
   "cell_type": "code",
   "execution_count": 25,
   "metadata": {},
   "outputs": [
    {
     "data": {
      "text/plain": [
       "(1.0, 0.9790209790209791)"
      ]
     },
     "execution_count": 25,
     "metadata": {},
     "output_type": "execute_result"
    }
   ],
   "source": [
    "forest = RandomForestClassifier(n_estimators= 100,random_state=2)\n",
    "forest.fit(X_train, y_train)\n",
    "forest.score(X_train, y_train), forest.score(X_test, y_test)"
   ]
  },
  {
   "cell_type": "code",
   "execution_count": 26,
   "metadata": {},
   "outputs": [],
   "source": [
    "from sklearn.ensemble import GradientBoostingClassifier"
   ]
  },
  {
   "cell_type": "code",
   "execution_count": 27,
   "metadata": {},
   "outputs": [
    {
     "data": {
      "text/plain": [
       "(0.9882629107981221, 0.965034965034965)"
      ]
     },
     "execution_count": 27,
     "metadata": {},
     "output_type": "execute_result"
    }
   ],
   "source": [
    "gbrt = GradientBoostingClassifier(random_state=0, learning_rate=0.01)\n",
    "gbrt.fit(X_train, y_train)\n",
    "gbrt.score(X_train, y_train), gbrt.score(X_test, y_test)"
   ]
  },
  {
   "cell_type": "code",
   "execution_count": 28,
   "metadata": {},
   "outputs": [
    {
     "data": {
      "text/plain": [
       "(1.0, 0.965034965034965)"
      ]
     },
     "execution_count": 28,
     "metadata": {},
     "output_type": "execute_result"
    }
   ],
   "source": [
    "gbrt = GradientBoostingClassifier(random_state=0)\n",
    "gbrt.fit(X_train, y_train)\n",
    "gbrt.score(X_train, y_train), gbrt.score(X_test, y_test)"
   ]
  },
  {
   "cell_type": "markdown",
   "metadata": {},
   "source": [
    "### 최적의 파라미터 "
   ]
  },
  {
   "cell_type": "code",
   "execution_count": 29,
   "metadata": {},
   "outputs": [],
   "source": [
    "from sklearn.model_selection import GridSearchCV"
   ]
  },
  {
   "cell_type": "code",
   "execution_count": 31,
   "metadata": {
    "collapsed": true
   },
   "outputs": [
    {
     "data": {
      "text/plain": [
       "GridSearchCV(cv=5, error_score=nan,\n",
       "             estimator=GradientBoostingClassifier(ccp_alpha=0.0,\n",
       "                                                  criterion='friedman_mse',\n",
       "                                                  init=None, learning_rate=0.1,\n",
       "                                                  loss='deviance', max_depth=3,\n",
       "                                                  max_features=None,\n",
       "                                                  max_leaf_nodes=None,\n",
       "                                                  min_impurity_decrease=0.0,\n",
       "                                                  min_impurity_split=None,\n",
       "                                                  min_samples_leaf=1,\n",
       "                                                  min_samples_split=2,\n",
       "                                                  min_weight_fraction_leaf=0.0,\n",
       "                                                  n_estimators=100,\n",
       "                                                  n_iter_no_change=None,\n",
       "                                                  presort='deprecated',\n",
       "                                                  random_state=0, subsample=1.0,\n",
       "                                                  tol=0.0001,\n",
       "                                                  validation_fraction=0.1,\n",
       "                                                  verbose=0, warm_start=False),\n",
       "             iid='deprecated', n_jobs=None,\n",
       "             param_grid={'learning_rate': [0.001, 0.01, 0.1, 1],\n",
       "                         'max_depth': [1, 2, 3, 4, 5],\n",
       "                         'n_estimators': [5, 10, 50, 100, 200, 500]},\n",
       "             pre_dispatch='2*n_jobs', refit=True, return_train_score=False,\n",
       "             scoring=None, verbose=0)"
      ]
     },
     "execution_count": 31,
     "metadata": {},
     "output_type": "execute_result"
    }
   ],
   "source": [
    "param_list = {'n_estimators':[5,10,50,100,200,500],\n",
    "             'max_depth':[1,2,3,4,5],\n",
    "             'learning_rate':[0.001, 0.01, 0.1, 1]}\n",
    "gs = GridSearchCV(gbrt, param_list, cv=5)\n",
    "gs.fit(X_train, y_train)"
   ]
  },
  {
   "cell_type": "code",
   "execution_count": 32,
   "metadata": {},
   "outputs": [
    {
     "data": {
      "text/plain": [
       "{'learning_rate': 0.1, 'max_depth': 1, 'n_estimators': 500}"
      ]
     },
     "execution_count": 32,
     "metadata": {},
     "output_type": "execute_result"
    }
   ],
   "source": [
    "gs.best_params_"
   ]
  },
  {
   "cell_type": "code",
   "execution_count": 33,
   "metadata": {},
   "outputs": [
    {
     "data": {
      "text/plain": [
       "0.9717920656634748"
      ]
     },
     "execution_count": 33,
     "metadata": {},
     "output_type": "execute_result"
    }
   ],
   "source": [
    "gs.best_score_   # train의 성능 "
   ]
  },
  {
   "cell_type": "code",
   "execution_count": 34,
   "metadata": {
    "collapsed": true
   },
   "outputs": [
    {
     "data": {
      "text/plain": [
       "GradientBoostingClassifier(ccp_alpha=0.0, criterion='friedman_mse', init=None,\n",
       "                           learning_rate=0.1, loss='deviance', max_depth=3,\n",
       "                           max_features=None, max_leaf_nodes=None,\n",
       "                           min_impurity_decrease=0.0, min_impurity_split=None,\n",
       "                           min_samples_leaf=1, min_samples_split=2,\n",
       "                           min_weight_fraction_leaf=0.0, n_estimators=100,\n",
       "                           n_iter_no_change=None, presort='deprecated',\n",
       "                           random_state=0, subsample=1.0, tol=0.0001,\n",
       "                           validation_fraction=0.1, verbose=0,\n",
       "                           warm_start=False)"
      ]
     },
     "execution_count": 34,
     "metadata": {},
     "output_type": "execute_result"
    }
   ],
   "source": [
    "gs.estimator"
   ]
  },
  {
   "cell_type": "code",
   "execution_count": 35,
   "metadata": {
    "collapsed": true
   },
   "outputs": [
    {
     "data": {
      "text/plain": [
       "{'mean_fit_time': array([0.00620356, 0.01017113, 0.04512711, 0.09132595, 0.18252916,\n",
       "        0.45736084, 0.00788875, 0.01596131, 0.07878823, 0.15870543,\n",
       "        0.31236815, 0.76899219, 0.01115499, 0.02196178, 0.10461473,\n",
       "        0.20955215, 0.42231688, 1.07144289, 0.01336365, 0.025946  ,\n",
       "        0.12997665, 0.25480547, 0.5115778 , 1.35504851, 0.01506124,\n",
       "        0.0297215 , 0.14778428, 0.29250555, 0.57669458, 1.50366769,\n",
       "        0.00559211, 0.00955029, 0.04605951, 0.09102416, 0.18016076,\n",
       "        0.45047846, 0.00875459, 0.01558352, 0.07651253, 0.15193424,\n",
       "        0.30260434, 0.7697535 , 0.01196675, 0.02359114, 0.12059627,\n",
       "        0.21961336, 0.4351912 , 1.08015766, 0.01286473, 0.02592273,\n",
       "        0.13342237, 0.27083144, 0.54073172, 1.37184291, 0.01478648,\n",
       "        0.02957811, 0.14944496, 0.31201673, 0.63419294, 1.58302879,\n",
       "        0.00497303, 0.00978742, 0.04525409, 0.09074969, 0.1803236 ,\n",
       "        0.44826632, 0.00839181, 0.01575241, 0.07644467, 0.15198684,\n",
       "        0.30142498, 0.57161622, 0.01104789, 0.02204676, 0.10809851,\n",
       "        0.21453772, 0.36049685, 0.43345876, 0.01389294, 0.02758226,\n",
       "        0.13878822, 0.26142769, 0.29318361, 0.36163731, 0.01574855,\n",
       "        0.03384571, 0.16206408, 0.24998264, 0.26571012, 0.33998699,\n",
       "        0.00518155, 0.00933967, 0.04608583, 0.08872862, 0.11847529,\n",
       "        0.18877559, 0.00818462, 0.01626201, 0.06345935, 0.07436981,\n",
       "        0.09899831, 0.16862507, 0.01157088, 0.02200766, 0.05503807,\n",
       "        0.06515193, 0.08955078, 0.16069064, 0.01417236, 0.0286099 ,\n",
       "        0.04437542, 0.05696998, 0.08023343, 0.14922671, 0.01679029,\n",
       "        0.03163671, 0.04298444, 0.05524387, 0.07899179, 0.14878092]),\n",
       " 'std_fit_time': array([3.91324530e-04, 7.49131351e-04, 4.69890622e-04, 1.06334160e-03,\n",
       "        3.16038636e-03, 7.25043750e-03, 5.06948756e-04, 8.89439375e-04,\n",
       "        2.51631760e-03, 7.66246022e-03, 5.03142354e-03, 8.39798330e-03,\n",
       "        7.40135857e-04, 1.99527669e-03, 2.19091292e-03, 6.34344969e-03,\n",
       "        1.06355876e-02, 1.67324286e-02, 1.19664682e-03, 2.01704722e-03,\n",
       "        1.58040047e-02, 2.55202643e-02, 4.25794686e-02, 5.58648321e-02,\n",
       "        1.36722495e-03, 3.53384746e-03, 2.01277482e-02, 3.63847895e-02,\n",
       "        7.37316725e-02, 1.11370583e-01, 8.09871325e-04, 7.85972445e-04,\n",
       "        1.78870458e-03, 1.36940466e-03, 2.56340967e-03, 8.79294102e-04,\n",
       "        9.63488182e-04, 1.74697481e-03, 8.47932724e-04, 1.00439357e-03,\n",
       "        9.95915217e-04, 1.16837271e-02, 1.40956102e-03, 2.58268754e-03,\n",
       "        2.86512213e-03, 5.79464717e-03, 5.49841475e-03, 2.03311007e-02,\n",
       "        1.50888491e-03, 2.94999999e-03, 4.29112286e-03, 8.23722057e-03,\n",
       "        1.76396501e-02, 2.52994487e-02, 1.14018061e-03, 4.72368944e-03,\n",
       "        1.06463799e-02, 1.34017725e-02, 2.75798884e-02, 9.81465560e-02,\n",
       "        2.54331727e-05, 1.15742858e-03, 1.94565845e-03, 1.33879207e-03,\n",
       "        6.27801039e-04, 2.07042798e-03, 9.68950898e-04, 1.17980556e-03,\n",
       "        6.61774158e-04, 1.62124917e-03, 1.84349283e-03, 3.62611964e-02,\n",
       "        4.94292246e-04, 1.04223235e-03, 2.01420961e-03, 2.39041853e-03,\n",
       "        3.59695225e-02, 3.45816190e-02, 6.79055515e-04, 1.77804063e-03,\n",
       "        2.68102652e-03, 1.33122167e-02, 2.39620711e-02, 2.32002068e-02,\n",
       "        9.79367798e-04, 2.67966562e-03, 8.61262661e-03, 1.85220910e-02,\n",
       "        1.29744653e-02, 1.21864517e-02, 4.01371910e-04, 4.45768855e-04,\n",
       "        1.24801113e-03, 4.07510590e-03, 8.13622748e-03, 9.24511194e-03,\n",
       "        3.95678411e-04, 1.54124942e-03, 5.15244131e-03, 5.18318011e-03,\n",
       "        5.40575594e-03, 5.02769057e-03, 7.82554956e-04, 1.35219237e-03,\n",
       "        2.29739754e-03, 2.12509947e-03, 2.80675847e-03, 2.28265496e-03,\n",
       "        9.88103156e-04, 1.31910035e-03, 2.86327970e-03, 2.89589078e-03,\n",
       "        2.71262437e-03, 4.53000362e-03, 1.00603272e-03, 2.83175456e-03,\n",
       "        4.03637722e-03, 3.02318766e-03, 4.34944201e-03, 3.77205305e-03]),\n",
       " 'mean_score_time': array([5.98096848e-04, 3.93724442e-04, 5.98144531e-04, 5.99288940e-04,\n",
       "        8.89682770e-04, 9.87005234e-04, 1.99413300e-04, 3.97348404e-04,\n",
       "        3.98731232e-04, 1.91068649e-04, 8.04042816e-04, 1.01633072e-03,\n",
       "        8.14151764e-04, 0.00000000e+00, 3.92866135e-04, 4.05788422e-04,\n",
       "        7.91883469e-04, 1.21192932e-03, 5.98859787e-04, 1.99365616e-04,\n",
       "        6.13021851e-04, 3.98874283e-04, 1.00369453e-03, 1.00393295e-03,\n",
       "        1.99460983e-04, 3.99255753e-04, 5.98859787e-04, 1.21626854e-03,\n",
       "        6.03914261e-04, 1.20420456e-03, 3.98397446e-04, 8.15582275e-04,\n",
       "        1.98841095e-04, 4.07695770e-04, 7.97128677e-04, 7.94601440e-04,\n",
       "        1.99556351e-04, 3.98874283e-04, 1.99270248e-04, 1.86681747e-04,\n",
       "        1.99413300e-04, 1.00221634e-03, 5.99336624e-04, 4.35733795e-04,\n",
       "        0.00000000e+00, 5.97572327e-04, 6.04963303e-04, 9.90676880e-04,\n",
       "        6.05058670e-04, 2.06422806e-04, 7.05718994e-05, 0.00000000e+00,\n",
       "        8.02516937e-04, 1.37586594e-03, 8.05234909e-04, 3.98683548e-04,\n",
       "        8.00609589e-04, 7.92455673e-04, 5.87844849e-04, 1.38678551e-03,\n",
       "        4.03785706e-04, 0.00000000e+00, 4.03499603e-04, 6.00337982e-04,\n",
       "        3.98588181e-04, 1.21088028e-03, 1.99985504e-04, 1.99413300e-04,\n",
       "        3.98397446e-04, 0.00000000e+00, 5.96904755e-04, 8.00371170e-04,\n",
       "        4.04453278e-04, 1.20606422e-03, 5.97906113e-04, 6.05487823e-04,\n",
       "        5.98526001e-04, 3.99065018e-04, 3.03363800e-04, 4.00638580e-04,\n",
       "        4.06312943e-04, 5.97524643e-04, 9.99927521e-04, 1.01208687e-03,\n",
       "        1.99317932e-04, 7.97986984e-04, 5.99241257e-04, 5.98430634e-04,\n",
       "        7.99942017e-04, 8.77952576e-04, 4.04644012e-04, 6.06918335e-04,\n",
       "        4.02975082e-04, 3.97157669e-04, 2.04038620e-04, 6.01005554e-04,\n",
       "        3.99017334e-04, 0.00000000e+00, 3.91864777e-04, 3.98492813e-04,\n",
       "        5.98382950e-04, 6.04724884e-04, 4.04834747e-04, 3.98492813e-04,\n",
       "        1.99365616e-04, 7.96031952e-04, 3.98969650e-04, 3.99303436e-04,\n",
       "        1.94740295e-04, 8.06617737e-04, 3.99255753e-04, 4.05597687e-04,\n",
       "        8.05044174e-04, 3.98778915e-04, 5.91421127e-04, 3.99541855e-04,\n",
       "        1.99222565e-04, 1.96456909e-04, 3.92580032e-04, 1.19686127e-03]),\n",
       " 'std_score_time': array([4.88344124e-04, 4.82422485e-04, 4.88383019e-04, 4.89667108e-04,\n",
       "        1.88639552e-04, 1.26702372e-05, 3.98826599e-04, 4.86703125e-04,\n",
       "        4.88344031e-04, 3.82137299e-04, 4.02196939e-04, 1.67065940e-05,\n",
       "        4.08197184e-04, 0.00000000e+00, 4.81253070e-04, 4.97102589e-04,\n",
       "        3.96013234e-04, 4.11057289e-04, 4.88967116e-04, 3.98731232e-04,\n",
       "        5.00733813e-04, 4.88519285e-04, 8.97087725e-06, 6.30241111e-04,\n",
       "        3.98921967e-04, 4.88986441e-04, 4.88967372e-04, 1.00840642e-03,\n",
       "        4.94101599e-04, 3.97300863e-04, 4.88414783e-04, 4.08404788e-04,\n",
       "        3.97682190e-04, 4.99480129e-04, 3.98564806e-04, 3.97642663e-04,\n",
       "        3.99112701e-04, 4.88519378e-04, 3.98540497e-04, 3.73363495e-04,\n",
       "        3.98826599e-04, 9.41508901e-06, 4.89359007e-04, 5.36827428e-04,\n",
       "        0.00000000e+00, 4.87917680e-04, 4.94248272e-04, 1.55286470e-05,\n",
       "        4.94143621e-04, 4.12845612e-04, 1.41143799e-04, 0.00000000e+00,\n",
       "        4.01285483e-04, 4.90835112e-04, 4.02852243e-04, 4.88285637e-04,\n",
       "        4.00448203e-04, 3.96400107e-04, 4.80189001e-04, 4.74835860e-04,\n",
       "        4.94594262e-04, 0.00000000e+00, 4.94261452e-04, 4.90545146e-04,\n",
       "        4.88168975e-04, 9.78851284e-04, 3.99971008e-04, 3.98826599e-04,\n",
       "        4.87935281e-04, 0.00000000e+00, 4.87383132e-04, 4.00200538e-04,\n",
       "        4.85314955e-04, 1.46842953e-03, 4.88376524e-04, 4.94497298e-04,\n",
       "        4.88694457e-04, 4.88752886e-04, 4.01203219e-04, 4.90685978e-04,\n",
       "        4.97763373e-04, 4.87886778e-04, 2.58012528e-05, 9.07006623e-04,\n",
       "        3.98635864e-04, 3.98993959e-04, 4.89284293e-04, 4.88616574e-04,\n",
       "        3.99990421e-04, 4.65376494e-04, 4.95626143e-04, 4.95800011e-04,\n",
       "        4.93585251e-04, 4.86425706e-04, 4.08077240e-04, 4.90818227e-04,\n",
       "        4.88694457e-04, 0.00000000e+00, 4.80060592e-04, 4.88052175e-04,\n",
       "        4.88577726e-04, 4.93894859e-04, 4.95934853e-04, 4.88052734e-04,\n",
       "        3.98731232e-04, 3.98400553e-04, 4.88636039e-04, 4.89045045e-04,\n",
       "        3.89480591e-04, 4.03472526e-04, 4.88987139e-04, 4.96838838e-04,\n",
       "        4.02764242e-04, 4.88402437e-04, 4.83071052e-04, 4.89339910e-04,\n",
       "        3.98445129e-04, 3.92913818e-04, 4.80914933e-04, 4.00660106e-04]),\n",
       " 'param_learning_rate': masked_array(data=[0.001, 0.001, 0.001, 0.001, 0.001, 0.001, 0.001, 0.001,\n",
       "                    0.001, 0.001, 0.001, 0.001, 0.001, 0.001, 0.001, 0.001,\n",
       "                    0.001, 0.001, 0.001, 0.001, 0.001, 0.001, 0.001, 0.001,\n",
       "                    0.001, 0.001, 0.001, 0.001, 0.001, 0.001, 0.01, 0.01,\n",
       "                    0.01, 0.01, 0.01, 0.01, 0.01, 0.01, 0.01, 0.01, 0.01,\n",
       "                    0.01, 0.01, 0.01, 0.01, 0.01, 0.01, 0.01, 0.01, 0.01,\n",
       "                    0.01, 0.01, 0.01, 0.01, 0.01, 0.01, 0.01, 0.01, 0.01,\n",
       "                    0.01, 0.1, 0.1, 0.1, 0.1, 0.1, 0.1, 0.1, 0.1, 0.1, 0.1,\n",
       "                    0.1, 0.1, 0.1, 0.1, 0.1, 0.1, 0.1, 0.1, 0.1, 0.1, 0.1,\n",
       "                    0.1, 0.1, 0.1, 0.1, 0.1, 0.1, 0.1, 0.1, 0.1, 1, 1, 1,\n",
       "                    1, 1, 1, 1, 1, 1, 1, 1, 1, 1, 1, 1, 1, 1, 1, 1, 1, 1,\n",
       "                    1, 1, 1, 1, 1, 1, 1, 1, 1],\n",
       "              mask=[False, False, False, False, False, False, False, False,\n",
       "                    False, False, False, False, False, False, False, False,\n",
       "                    False, False, False, False, False, False, False, False,\n",
       "                    False, False, False, False, False, False, False, False,\n",
       "                    False, False, False, False, False, False, False, False,\n",
       "                    False, False, False, False, False, False, False, False,\n",
       "                    False, False, False, False, False, False, False, False,\n",
       "                    False, False, False, False, False, False, False, False,\n",
       "                    False, False, False, False, False, False, False, False,\n",
       "                    False, False, False, False, False, False, False, False,\n",
       "                    False, False, False, False, False, False, False, False,\n",
       "                    False, False, False, False, False, False, False, False,\n",
       "                    False, False, False, False, False, False, False, False,\n",
       "                    False, False, False, False, False, False, False, False,\n",
       "                    False, False, False, False, False, False, False, False],\n",
       "        fill_value='?',\n",
       "             dtype=object),\n",
       " 'param_max_depth': masked_array(data=[1, 1, 1, 1, 1, 1, 2, 2, 2, 2, 2, 2, 3, 3, 3, 3, 3, 3,\n",
       "                    4, 4, 4, 4, 4, 4, 5, 5, 5, 5, 5, 5, 1, 1, 1, 1, 1, 1,\n",
       "                    2, 2, 2, 2, 2, 2, 3, 3, 3, 3, 3, 3, 4, 4, 4, 4, 4, 4,\n",
       "                    5, 5, 5, 5, 5, 5, 1, 1, 1, 1, 1, 1, 2, 2, 2, 2, 2, 2,\n",
       "                    3, 3, 3, 3, 3, 3, 4, 4, 4, 4, 4, 4, 5, 5, 5, 5, 5, 5,\n",
       "                    1, 1, 1, 1, 1, 1, 2, 2, 2, 2, 2, 2, 3, 3, 3, 3, 3, 3,\n",
       "                    4, 4, 4, 4, 4, 4, 5, 5, 5, 5, 5, 5],\n",
       "              mask=[False, False, False, False, False, False, False, False,\n",
       "                    False, False, False, False, False, False, False, False,\n",
       "                    False, False, False, False, False, False, False, False,\n",
       "                    False, False, False, False, False, False, False, False,\n",
       "                    False, False, False, False, False, False, False, False,\n",
       "                    False, False, False, False, False, False, False, False,\n",
       "                    False, False, False, False, False, False, False, False,\n",
       "                    False, False, False, False, False, False, False, False,\n",
       "                    False, False, False, False, False, False, False, False,\n",
       "                    False, False, False, False, False, False, False, False,\n",
       "                    False, False, False, False, False, False, False, False,\n",
       "                    False, False, False, False, False, False, False, False,\n",
       "                    False, False, False, False, False, False, False, False,\n",
       "                    False, False, False, False, False, False, False, False,\n",
       "                    False, False, False, False, False, False, False, False],\n",
       "        fill_value='?',\n",
       "             dtype=object),\n",
       " 'param_n_estimators': masked_array(data=[5, 10, 50, 100, 200, 500, 5, 10, 50, 100, 200, 500, 5,\n",
       "                    10, 50, 100, 200, 500, 5, 10, 50, 100, 200, 500, 5, 10,\n",
       "                    50, 100, 200, 500, 5, 10, 50, 100, 200, 500, 5, 10, 50,\n",
       "                    100, 200, 500, 5, 10, 50, 100, 200, 500, 5, 10, 50,\n",
       "                    100, 200, 500, 5, 10, 50, 100, 200, 500, 5, 10, 50,\n",
       "                    100, 200, 500, 5, 10, 50, 100, 200, 500, 5, 10, 50,\n",
       "                    100, 200, 500, 5, 10, 50, 100, 200, 500, 5, 10, 50,\n",
       "                    100, 200, 500, 5, 10, 50, 100, 200, 500, 5, 10, 50,\n",
       "                    100, 200, 500, 5, 10, 50, 100, 200, 500, 5, 10, 50,\n",
       "                    100, 200, 500, 5, 10, 50, 100, 200, 500],\n",
       "              mask=[False, False, False, False, False, False, False, False,\n",
       "                    False, False, False, False, False, False, False, False,\n",
       "                    False, False, False, False, False, False, False, False,\n",
       "                    False, False, False, False, False, False, False, False,\n",
       "                    False, False, False, False, False, False, False, False,\n",
       "                    False, False, False, False, False, False, False, False,\n",
       "                    False, False, False, False, False, False, False, False,\n",
       "                    False, False, False, False, False, False, False, False,\n",
       "                    False, False, False, False, False, False, False, False,\n",
       "                    False, False, False, False, False, False, False, False,\n",
       "                    False, False, False, False, False, False, False, False,\n",
       "                    False, False, False, False, False, False, False, False,\n",
       "                    False, False, False, False, False, False, False, False,\n",
       "                    False, False, False, False, False, False, False, False,\n",
       "                    False, False, False, False, False, False, False, False],\n",
       "        fill_value='?',\n",
       "             dtype=object),\n",
       " 'params': [{'learning_rate': 0.001, 'max_depth': 1, 'n_estimators': 5},\n",
       "  {'learning_rate': 0.001, 'max_depth': 1, 'n_estimators': 10},\n",
       "  {'learning_rate': 0.001, 'max_depth': 1, 'n_estimators': 50},\n",
       "  {'learning_rate': 0.001, 'max_depth': 1, 'n_estimators': 100},\n",
       "  {'learning_rate': 0.001, 'max_depth': 1, 'n_estimators': 200},\n",
       "  {'learning_rate': 0.001, 'max_depth': 1, 'n_estimators': 500},\n",
       "  {'learning_rate': 0.001, 'max_depth': 2, 'n_estimators': 5},\n",
       "  {'learning_rate': 0.001, 'max_depth': 2, 'n_estimators': 10},\n",
       "  {'learning_rate': 0.001, 'max_depth': 2, 'n_estimators': 50},\n",
       "  {'learning_rate': 0.001, 'max_depth': 2, 'n_estimators': 100},\n",
       "  {'learning_rate': 0.001, 'max_depth': 2, 'n_estimators': 200},\n",
       "  {'learning_rate': 0.001, 'max_depth': 2, 'n_estimators': 500},\n",
       "  {'learning_rate': 0.001, 'max_depth': 3, 'n_estimators': 5},\n",
       "  {'learning_rate': 0.001, 'max_depth': 3, 'n_estimators': 10},\n",
       "  {'learning_rate': 0.001, 'max_depth': 3, 'n_estimators': 50},\n",
       "  {'learning_rate': 0.001, 'max_depth': 3, 'n_estimators': 100},\n",
       "  {'learning_rate': 0.001, 'max_depth': 3, 'n_estimators': 200},\n",
       "  {'learning_rate': 0.001, 'max_depth': 3, 'n_estimators': 500},\n",
       "  {'learning_rate': 0.001, 'max_depth': 4, 'n_estimators': 5},\n",
       "  {'learning_rate': 0.001, 'max_depth': 4, 'n_estimators': 10},\n",
       "  {'learning_rate': 0.001, 'max_depth': 4, 'n_estimators': 50},\n",
       "  {'learning_rate': 0.001, 'max_depth': 4, 'n_estimators': 100},\n",
       "  {'learning_rate': 0.001, 'max_depth': 4, 'n_estimators': 200},\n",
       "  {'learning_rate': 0.001, 'max_depth': 4, 'n_estimators': 500},\n",
       "  {'learning_rate': 0.001, 'max_depth': 5, 'n_estimators': 5},\n",
       "  {'learning_rate': 0.001, 'max_depth': 5, 'n_estimators': 10},\n",
       "  {'learning_rate': 0.001, 'max_depth': 5, 'n_estimators': 50},\n",
       "  {'learning_rate': 0.001, 'max_depth': 5, 'n_estimators': 100},\n",
       "  {'learning_rate': 0.001, 'max_depth': 5, 'n_estimators': 200},\n",
       "  {'learning_rate': 0.001, 'max_depth': 5, 'n_estimators': 500},\n",
       "  {'learning_rate': 0.01, 'max_depth': 1, 'n_estimators': 5},\n",
       "  {'learning_rate': 0.01, 'max_depth': 1, 'n_estimators': 10},\n",
       "  {'learning_rate': 0.01, 'max_depth': 1, 'n_estimators': 50},\n",
       "  {'learning_rate': 0.01, 'max_depth': 1, 'n_estimators': 100},\n",
       "  {'learning_rate': 0.01, 'max_depth': 1, 'n_estimators': 200},\n",
       "  {'learning_rate': 0.01, 'max_depth': 1, 'n_estimators': 500},\n",
       "  {'learning_rate': 0.01, 'max_depth': 2, 'n_estimators': 5},\n",
       "  {'learning_rate': 0.01, 'max_depth': 2, 'n_estimators': 10},\n",
       "  {'learning_rate': 0.01, 'max_depth': 2, 'n_estimators': 50},\n",
       "  {'learning_rate': 0.01, 'max_depth': 2, 'n_estimators': 100},\n",
       "  {'learning_rate': 0.01, 'max_depth': 2, 'n_estimators': 200},\n",
       "  {'learning_rate': 0.01, 'max_depth': 2, 'n_estimators': 500},\n",
       "  {'learning_rate': 0.01, 'max_depth': 3, 'n_estimators': 5},\n",
       "  {'learning_rate': 0.01, 'max_depth': 3, 'n_estimators': 10},\n",
       "  {'learning_rate': 0.01, 'max_depth': 3, 'n_estimators': 50},\n",
       "  {'learning_rate': 0.01, 'max_depth': 3, 'n_estimators': 100},\n",
       "  {'learning_rate': 0.01, 'max_depth': 3, 'n_estimators': 200},\n",
       "  {'learning_rate': 0.01, 'max_depth': 3, 'n_estimators': 500},\n",
       "  {'learning_rate': 0.01, 'max_depth': 4, 'n_estimators': 5},\n",
       "  {'learning_rate': 0.01, 'max_depth': 4, 'n_estimators': 10},\n",
       "  {'learning_rate': 0.01, 'max_depth': 4, 'n_estimators': 50},\n",
       "  {'learning_rate': 0.01, 'max_depth': 4, 'n_estimators': 100},\n",
       "  {'learning_rate': 0.01, 'max_depth': 4, 'n_estimators': 200},\n",
       "  {'learning_rate': 0.01, 'max_depth': 4, 'n_estimators': 500},\n",
       "  {'learning_rate': 0.01, 'max_depth': 5, 'n_estimators': 5},\n",
       "  {'learning_rate': 0.01, 'max_depth': 5, 'n_estimators': 10},\n",
       "  {'learning_rate': 0.01, 'max_depth': 5, 'n_estimators': 50},\n",
       "  {'learning_rate': 0.01, 'max_depth': 5, 'n_estimators': 100},\n",
       "  {'learning_rate': 0.01, 'max_depth': 5, 'n_estimators': 200},\n",
       "  {'learning_rate': 0.01, 'max_depth': 5, 'n_estimators': 500},\n",
       "  {'learning_rate': 0.1, 'max_depth': 1, 'n_estimators': 5},\n",
       "  {'learning_rate': 0.1, 'max_depth': 1, 'n_estimators': 10},\n",
       "  {'learning_rate': 0.1, 'max_depth': 1, 'n_estimators': 50},\n",
       "  {'learning_rate': 0.1, 'max_depth': 1, 'n_estimators': 100},\n",
       "  {'learning_rate': 0.1, 'max_depth': 1, 'n_estimators': 200},\n",
       "  {'learning_rate': 0.1, 'max_depth': 1, 'n_estimators': 500},\n",
       "  {'learning_rate': 0.1, 'max_depth': 2, 'n_estimators': 5},\n",
       "  {'learning_rate': 0.1, 'max_depth': 2, 'n_estimators': 10},\n",
       "  {'learning_rate': 0.1, 'max_depth': 2, 'n_estimators': 50},\n",
       "  {'learning_rate': 0.1, 'max_depth': 2, 'n_estimators': 100},\n",
       "  {'learning_rate': 0.1, 'max_depth': 2, 'n_estimators': 200},\n",
       "  {'learning_rate': 0.1, 'max_depth': 2, 'n_estimators': 500},\n",
       "  {'learning_rate': 0.1, 'max_depth': 3, 'n_estimators': 5},\n",
       "  {'learning_rate': 0.1, 'max_depth': 3, 'n_estimators': 10},\n",
       "  {'learning_rate': 0.1, 'max_depth': 3, 'n_estimators': 50},\n",
       "  {'learning_rate': 0.1, 'max_depth': 3, 'n_estimators': 100},\n",
       "  {'learning_rate': 0.1, 'max_depth': 3, 'n_estimators': 200},\n",
       "  {'learning_rate': 0.1, 'max_depth': 3, 'n_estimators': 500},\n",
       "  {'learning_rate': 0.1, 'max_depth': 4, 'n_estimators': 5},\n",
       "  {'learning_rate': 0.1, 'max_depth': 4, 'n_estimators': 10},\n",
       "  {'learning_rate': 0.1, 'max_depth': 4, 'n_estimators': 50},\n",
       "  {'learning_rate': 0.1, 'max_depth': 4, 'n_estimators': 100},\n",
       "  {'learning_rate': 0.1, 'max_depth': 4, 'n_estimators': 200},\n",
       "  {'learning_rate': 0.1, 'max_depth': 4, 'n_estimators': 500},\n",
       "  {'learning_rate': 0.1, 'max_depth': 5, 'n_estimators': 5},\n",
       "  {'learning_rate': 0.1, 'max_depth': 5, 'n_estimators': 10},\n",
       "  {'learning_rate': 0.1, 'max_depth': 5, 'n_estimators': 50},\n",
       "  {'learning_rate': 0.1, 'max_depth': 5, 'n_estimators': 100},\n",
       "  {'learning_rate': 0.1, 'max_depth': 5, 'n_estimators': 200},\n",
       "  {'learning_rate': 0.1, 'max_depth': 5, 'n_estimators': 500},\n",
       "  {'learning_rate': 1, 'max_depth': 1, 'n_estimators': 5},\n",
       "  {'learning_rate': 1, 'max_depth': 1, 'n_estimators': 10},\n",
       "  {'learning_rate': 1, 'max_depth': 1, 'n_estimators': 50},\n",
       "  {'learning_rate': 1, 'max_depth': 1, 'n_estimators': 100},\n",
       "  {'learning_rate': 1, 'max_depth': 1, 'n_estimators': 200},\n",
       "  {'learning_rate': 1, 'max_depth': 1, 'n_estimators': 500},\n",
       "  {'learning_rate': 1, 'max_depth': 2, 'n_estimators': 5},\n",
       "  {'learning_rate': 1, 'max_depth': 2, 'n_estimators': 10},\n",
       "  {'learning_rate': 1, 'max_depth': 2, 'n_estimators': 50},\n",
       "  {'learning_rate': 1, 'max_depth': 2, 'n_estimators': 100},\n",
       "  {'learning_rate': 1, 'max_depth': 2, 'n_estimators': 200},\n",
       "  {'learning_rate': 1, 'max_depth': 2, 'n_estimators': 500},\n",
       "  {'learning_rate': 1, 'max_depth': 3, 'n_estimators': 5},\n",
       "  {'learning_rate': 1, 'max_depth': 3, 'n_estimators': 10},\n",
       "  {'learning_rate': 1, 'max_depth': 3, 'n_estimators': 50},\n",
       "  {'learning_rate': 1, 'max_depth': 3, 'n_estimators': 100},\n",
       "  {'learning_rate': 1, 'max_depth': 3, 'n_estimators': 200},\n",
       "  {'learning_rate': 1, 'max_depth': 3, 'n_estimators': 500},\n",
       "  {'learning_rate': 1, 'max_depth': 4, 'n_estimators': 5},\n",
       "  {'learning_rate': 1, 'max_depth': 4, 'n_estimators': 10},\n",
       "  {'learning_rate': 1, 'max_depth': 4, 'n_estimators': 50},\n",
       "  {'learning_rate': 1, 'max_depth': 4, 'n_estimators': 100},\n",
       "  {'learning_rate': 1, 'max_depth': 4, 'n_estimators': 200},\n",
       "  {'learning_rate': 1, 'max_depth': 4, 'n_estimators': 500},\n",
       "  {'learning_rate': 1, 'max_depth': 5, 'n_estimators': 5},\n",
       "  {'learning_rate': 1, 'max_depth': 5, 'n_estimators': 10},\n",
       "  {'learning_rate': 1, 'max_depth': 5, 'n_estimators': 50},\n",
       "  {'learning_rate': 1, 'max_depth': 5, 'n_estimators': 100},\n",
       "  {'learning_rate': 1, 'max_depth': 5, 'n_estimators': 200},\n",
       "  {'learning_rate': 1, 'max_depth': 5, 'n_estimators': 500}],\n",
       " 'split0_test_score': array([0.62790698, 0.62790698, 0.62790698, 0.62790698, 0.62790698,\n",
       "        0.90697674, 0.62790698, 0.62790698, 0.62790698, 0.62790698,\n",
       "        0.62790698, 0.90697674, 0.62790698, 0.62790698, 0.62790698,\n",
       "        0.62790698, 0.62790698, 0.90697674, 0.62790698, 0.62790698,\n",
       "        0.62790698, 0.62790698, 0.62790698, 0.90697674, 0.62790698,\n",
       "        0.62790698, 0.62790698, 0.62790698, 0.62790698, 0.89534884,\n",
       "        0.62790698, 0.62790698, 0.90697674, 0.90697674, 0.91860465,\n",
       "        0.93023256, 0.62790698, 0.62790698, 0.90697674, 0.90697674,\n",
       "        0.93023256, 0.93023256, 0.62790698, 0.62790698, 0.90697674,\n",
       "        0.90697674, 0.90697674, 0.93023256, 0.62790698, 0.62790698,\n",
       "        0.89534884, 0.90697674, 0.90697674, 0.90697674, 0.62790698,\n",
       "        0.62790698, 0.89534884, 0.90697674, 0.90697674, 0.89534884,\n",
       "        0.90697674, 0.90697674, 0.93023256, 0.96511628, 0.97674419,\n",
       "        0.98837209, 0.90697674, 0.90697674, 0.93023256, 0.96511628,\n",
       "        0.98837209, 0.98837209, 0.90697674, 0.90697674, 0.94186047,\n",
       "        0.95348837, 0.97674419, 0.97674419, 0.89534884, 0.90697674,\n",
       "        0.90697674, 0.91860465, 0.91860465, 0.91860465, 0.90697674,\n",
       "        0.91860465, 0.89534884, 0.91860465, 0.91860465, 0.91860465,\n",
       "        0.93023256, 0.95348837, 0.97674419, 0.98837209, 0.98837209,\n",
       "        0.98837209, 0.91860465, 0.91860465, 0.94186047, 0.94186047,\n",
       "        0.94186047, 0.94186047, 0.94186047, 0.94186047, 0.93023256,\n",
       "        0.93023256, 0.93023256, 0.93023256, 0.94186047, 0.94186047,\n",
       "        0.91860465, 0.91860465, 0.91860465, 0.91860465, 0.89534884,\n",
       "        0.90697674, 0.90697674, 0.90697674, 0.90697674, 0.90697674]),\n",
       " 'split1_test_score': array([0.63529412, 0.63529412, 0.63529412, 0.63529412, 0.63529412,\n",
       "        0.88235294, 0.63529412, 0.63529412, 0.63529412, 0.63529412,\n",
       "        0.63529412, 0.88235294, 0.63529412, 0.63529412, 0.63529412,\n",
       "        0.63529412, 0.63529412, 0.90588235, 0.63529412, 0.63529412,\n",
       "        0.63529412, 0.63529412, 0.63529412, 0.89411765, 0.63529412,\n",
       "        0.63529412, 0.63529412, 0.63529412, 0.63529412, 0.90588235,\n",
       "        0.63529412, 0.63529412, 0.88235294, 0.88235294, 0.92941176,\n",
       "        0.94117647, 0.63529412, 0.63529412, 0.88235294, 0.91764706,\n",
       "        0.95294118, 0.94117647, 0.63529412, 0.63529412, 0.90588235,\n",
       "        0.95294118, 0.96470588, 0.97647059, 0.63529412, 0.63529412,\n",
       "        0.90588235, 0.92941176, 0.94117647, 0.95294118, 0.63529412,\n",
       "        0.63529412, 0.90588235, 0.88235294, 0.89411765, 0.89411765,\n",
       "        0.88235294, 0.88235294, 0.94117647, 0.96470588, 0.96470588,\n",
       "        0.97647059, 0.89411765, 0.91764706, 0.94117647, 0.95294118,\n",
       "        0.95294118, 0.96470588, 0.91764706, 0.94117647, 0.97647059,\n",
       "        0.98823529, 0.97647059, 0.97647059, 0.90588235, 0.95294118,\n",
       "        0.96470588, 0.96470588, 0.96470588, 0.96470588, 0.90588235,\n",
       "        0.88235294, 0.89411765, 0.92941176, 0.92941176, 0.92941176,\n",
       "        0.91764706, 0.95294118, 0.96470588, 0.96470588, 0.96470588,\n",
       "        0.96470588, 0.97647059, 0.97647059, 0.97647059, 0.97647059,\n",
       "        0.97647059, 0.97647059, 0.92941176, 0.94117647, 0.94117647,\n",
       "        0.94117647, 0.94117647, 0.94117647, 0.91764706, 0.95294118,\n",
       "        0.95294118, 0.95294118, 0.95294118, 0.95294118, 0.89411765,\n",
       "        0.94117647, 0.94117647, 0.94117647, 0.94117647, 0.94117647]),\n",
       " 'split2_test_score': array([0.62352941, 0.62352941, 0.62352941, 0.62352941, 0.62352941,\n",
       "        0.89411765, 0.62352941, 0.62352941, 0.62352941, 0.62352941,\n",
       "        0.62352941, 0.90588235, 0.62352941, 0.62352941, 0.62352941,\n",
       "        0.62352941, 0.62352941, 0.92941176, 0.62352941, 0.62352941,\n",
       "        0.62352941, 0.62352941, 0.62352941, 0.95294118, 0.62352941,\n",
       "        0.62352941, 0.62352941, 0.62352941, 0.62352941, 0.95294118,\n",
       "        0.62352941, 0.62352941, 0.89411765, 0.89411765, 0.89411765,\n",
       "        0.92941176, 0.62352941, 0.62352941, 0.90588235, 0.91764706,\n",
       "        0.89411765, 0.92941176, 0.62352941, 0.62352941, 0.94117647,\n",
       "        0.94117647, 0.94117647, 0.92941176, 0.62352941, 0.62352941,\n",
       "        0.95294118, 0.95294118, 0.94117647, 0.95294118, 0.62352941,\n",
       "        0.62352941, 0.95294118, 0.94117647, 0.94117647, 0.94117647,\n",
       "        0.90588235, 0.89411765, 0.92941176, 0.92941176, 0.92941176,\n",
       "        0.94117647, 0.90588235, 0.91764706, 0.92941176, 0.92941176,\n",
       "        0.94117647, 0.94117647, 0.91764706, 0.94117647, 0.94117647,\n",
       "        0.92941176, 0.92941176, 0.92941176, 0.95294118, 0.95294118,\n",
       "        0.95294118, 0.92941176, 0.92941176, 0.92941176, 0.94117647,\n",
       "        0.94117647, 0.94117647, 0.94117647, 0.94117647, 0.94117647,\n",
       "        0.90588235, 0.92941176, 0.94117647, 0.95294118, 0.95294118,\n",
       "        0.95294118, 0.91764706, 0.91764706, 0.91764706, 0.91764706,\n",
       "        0.91764706, 0.91764706, 0.94117647, 0.94117647, 0.95294118,\n",
       "        0.95294118, 0.95294118, 0.95294118, 0.89411765, 0.92941176,\n",
       "        0.92941176, 0.92941176, 0.92941176, 0.92941176, 0.90588235,\n",
       "        0.92941176, 0.92941176, 0.92941176, 0.92941176, 0.92941176]),\n",
       " 'split3_test_score': array([0.62352941, 0.62352941, 0.62352941, 0.62352941, 0.62352941,\n",
       "        0.91764706, 0.62352941, 0.62352941, 0.62352941, 0.62352941,\n",
       "        0.62352941, 0.94117647, 0.62352941, 0.62352941, 0.62352941,\n",
       "        0.62352941, 0.62352941, 0.94117647, 0.62352941, 0.62352941,\n",
       "        0.62352941, 0.62352941, 0.62352941, 0.94117647, 0.62352941,\n",
       "        0.62352941, 0.62352941, 0.62352941, 0.62352941, 0.92941176,\n",
       "        0.62352941, 0.62352941, 0.91764706, 0.94117647, 0.92941176,\n",
       "        0.95294118, 0.62352941, 0.62352941, 0.94117647, 0.94117647,\n",
       "        0.94117647, 0.95294118, 0.62352941, 0.62352941, 0.94117647,\n",
       "        0.94117647, 0.95294118, 0.94117647, 0.62352941, 0.62352941,\n",
       "        0.94117647, 0.94117647, 0.95294118, 0.95294118, 0.62352941,\n",
       "        0.62352941, 0.92941176, 0.94117647, 0.92941176, 0.94117647,\n",
       "        0.91764706, 0.92941176, 0.95294118, 0.95294118, 0.97647059,\n",
       "        0.98823529, 0.94117647, 0.94117647, 0.95294118, 0.95294118,\n",
       "        0.96470588, 0.96470588, 0.92941176, 0.94117647, 0.95294118,\n",
       "        0.95294118, 0.95294118, 0.95294118, 0.94117647, 0.94117647,\n",
       "        0.94117647, 0.95294118, 0.95294118, 0.95294118, 0.92941176,\n",
       "        0.94117647, 0.94117647, 0.94117647, 0.94117647, 0.94117647,\n",
       "        0.92941176, 0.96470588, 0.98823529, 0.98823529, 0.97647059,\n",
       "        0.97647059, 0.94117647, 0.94117647, 0.95294118, 0.95294118,\n",
       "        0.95294118, 0.95294118, 0.91764706, 0.95294118, 0.96470588,\n",
       "        0.96470588, 0.96470588, 0.96470588, 0.90588235, 0.92941176,\n",
       "        0.91764706, 0.91764706, 0.91764706, 0.91764706, 0.94117647,\n",
       "        0.94117647, 0.95294118, 0.95294118, 0.95294118, 0.95294118]),\n",
       " 'split4_test_score': array([0.62352941, 0.62352941, 0.62352941, 0.62352941, 0.62352941,\n",
       "        0.85882353, 0.62352941, 0.62352941, 0.62352941, 0.62352941,\n",
       "        0.62352941, 0.94117647, 0.62352941, 0.62352941, 0.62352941,\n",
       "        0.62352941, 0.62352941, 0.95294118, 0.62352941, 0.62352941,\n",
       "        0.62352941, 0.62352941, 0.62352941, 0.94117647, 0.62352941,\n",
       "        0.62352941, 0.62352941, 0.62352941, 0.62352941, 0.92941176,\n",
       "        0.62352941, 0.62352941, 0.85882353, 0.85882353, 0.92941176,\n",
       "        0.94117647, 0.62352941, 0.62352941, 0.94117647, 0.92941176,\n",
       "        0.94117647, 0.96470588, 0.62352941, 0.62352941, 0.95294118,\n",
       "        0.96470588, 0.96470588, 0.95294118, 0.62352941, 0.62352941,\n",
       "        0.95294118, 0.94117647, 0.94117647, 0.94117647, 0.62352941,\n",
       "        0.62352941, 0.94117647, 0.94117647, 0.94117647, 0.90588235,\n",
       "        0.85882353, 0.85882353, 0.94117647, 0.94117647, 0.96470588,\n",
       "        0.96470588, 0.92941176, 0.92941176, 0.96470588, 0.96470588,\n",
       "        0.98823529, 0.98823529, 0.95294118, 0.96470588, 0.96470588,\n",
       "        0.96470588, 0.97647059, 0.97647059, 0.94117647, 0.94117647,\n",
       "        0.94117647, 0.95294118, 0.95294118, 0.95294118, 0.92941176,\n",
       "        0.94117647, 0.90588235, 0.90588235, 0.90588235, 0.90588235,\n",
       "        0.88235294, 0.88235294, 0.92941176, 0.95294118, 0.95294118,\n",
       "        0.95294118, 0.89411765, 0.97647059, 1.        , 1.        ,\n",
       "        1.        , 1.        , 0.89411765, 0.92941176, 0.94117647,\n",
       "        0.94117647, 0.94117647, 0.94117647, 0.91764706, 0.92941176,\n",
       "        0.97647059, 0.97647059, 0.97647059, 0.97647059, 0.94117647,\n",
       "        0.95294118, 0.95294118, 0.95294118, 0.95294118, 0.95294118]),\n",
       " 'mean_test_score': array([0.62675787, 0.62675787, 0.62675787, 0.62675787, 0.62675787,\n",
       "        0.89198358, 0.62675787, 0.62675787, 0.62675787, 0.62675787,\n",
       "        0.62675787, 0.915513  , 0.62675787, 0.62675787, 0.62675787,\n",
       "        0.62675787, 0.62675787, 0.9272777 , 0.62675787, 0.62675787,\n",
       "        0.62675787, 0.62675787, 0.62675787, 0.9272777 , 0.62675787,\n",
       "        0.62675787, 0.62675787, 0.62675787, 0.62675787, 0.92259918,\n",
       "        0.62675787, 0.62675787, 0.89198358, 0.89668947, 0.92019152,\n",
       "        0.93898769, 0.62675787, 0.62675787, 0.915513  , 0.92257182,\n",
       "        0.93192886, 0.94369357, 0.62675787, 0.62675787, 0.92963064,\n",
       "        0.94139535, 0.94610123, 0.94604651, 0.62675787, 0.62675787,\n",
       "        0.929658  , 0.93433653, 0.93668947, 0.94139535, 0.62675787,\n",
       "        0.62675787, 0.92495212, 0.92257182, 0.92257182, 0.91554036,\n",
       "        0.89433653, 0.89433653, 0.93898769, 0.95067031, 0.96240766,\n",
       "        0.97179207, 0.915513  , 0.92257182, 0.94369357, 0.95302326,\n",
       "        0.96708618, 0.96943912, 0.92492476, 0.93904241, 0.95543092,\n",
       "        0.9577565 , 0.96240766, 0.96240766, 0.92730506, 0.93904241,\n",
       "        0.94139535, 0.94372093, 0.94372093, 0.94372093, 0.92257182,\n",
       "        0.9248974 , 0.91554036, 0.92725034, 0.92725034, 0.92725034,\n",
       "        0.91310534, 0.93658003, 0.96005472, 0.96943912, 0.96708618,\n",
       "        0.96708618, 0.92960328, 0.94607387, 0.95778386, 0.95778386,\n",
       "        0.95778386, 0.95778386, 0.92484268, 0.94131327, 0.94604651,\n",
       "        0.94604651, 0.94604651, 0.94604651, 0.91543092, 0.93660739,\n",
       "        0.93901505, 0.93901505, 0.93901505, 0.93901505, 0.91554036,\n",
       "        0.93433653, 0.93668947, 0.93668947, 0.93668947, 0.93668947]),\n",
       " 'std_test_score': array([0.00459253, 0.00459253, 0.00459253, 0.00459253, 0.00459253,\n",
       "        0.02039756, 0.00459253, 0.00459253, 0.00459253, 0.00459253,\n",
       "        0.00459253, 0.02272635, 0.00459253, 0.00459253, 0.00459253,\n",
       "        0.00459253, 0.00459253, 0.01858082, 0.00459253, 0.00459253,\n",
       "        0.00459253, 0.00459253, 0.00459253, 0.02261276, 0.00459253,\n",
       "        0.00459253, 0.00459253, 0.00459253, 0.00459253, 0.02017668,\n",
       "        0.00459253, 0.00459253, 0.02039756, 0.0273163 , 0.01369236,\n",
       "        0.00863287, 0.00459253, 0.00459253, 0.02272635, 0.01170155,\n",
       "        0.02022434, 0.01355389, 0.00459253, 0.00459253, 0.01942768,\n",
       "        0.01929468, 0.02141976, 0.01745666, 0.00459253, 0.00459253,\n",
       "        0.02432812, 0.0155725 , 0.01553939, 0.01780228, 0.00459253,\n",
       "        0.00459253, 0.02147797, 0.02407972, 0.01893091, 0.02132758,\n",
       "        0.02117187, 0.02364265, 0.00863287, 0.01380506, 0.01733548,\n",
       "        0.01763346, 0.01717654, 0.01170155, 0.01355389, 0.01296334,\n",
       "        0.01885436, 0.01763711, 0.01570423, 0.01844171, 0.01358115,\n",
       "        0.01908968, 0.01886484, 0.01886484, 0.02245963, 0.01687404,\n",
       "        0.01929468, 0.01700573, 0.01700573, 0.01700573, 0.01386685,\n",
       "        0.0229985 , 0.02132758, 0.01359327, 0.01359327, 0.01359327,\n",
       "        0.01776373, 0.02945031, 0.02186182, 0.01599076, 0.01376216,\n",
       "        0.01376216, 0.02776197, 0.02620896, 0.02835265, 0.02835265,\n",
       "        0.02835265, 0.02835265, 0.01773741, 0.00744568, 0.01177475,\n",
       "        0.01177475, 0.01177475, 0.01177475, 0.01583524, 0.00948386,\n",
       "        0.02263737, 0.02263737, 0.02263737, 0.02263737, 0.02132758,\n",
       "        0.0155725 , 0.01722893, 0.01722893, 0.01722893, 0.01722893]),\n",
       " 'rank_test_score': array([86, 86, 86, 86, 86, 84, 86, 86, 86, 86, 86, 76, 86, 86, 86, 86, 86,\n",
       "        57, 86, 86, 86, 86, 86, 57, 86, 86, 86, 86, 86, 66, 86, 86, 84, 81,\n",
       "        72, 41, 86, 86, 76, 67, 52, 29, 86, 86, 54, 31, 19, 21, 86, 86, 53,\n",
       "        50, 43, 31, 86, 86, 62, 67, 67, 73, 82, 82, 41, 18,  7,  1, 76, 67,\n",
       "        29, 17,  6,  2, 63, 35, 16, 15,  7,  7, 56, 35, 31, 26, 26, 26, 67,\n",
       "        64, 73, 59, 59, 59, 80, 49, 10,  2,  4,  4, 55, 20, 11, 11, 11, 11,\n",
       "        65, 34, 21, 21, 21, 21, 79, 48, 37, 37, 37, 37, 75, 50, 43, 43, 43,\n",
       "        43])}"
      ]
     },
     "execution_count": 35,
     "metadata": {},
     "output_type": "execute_result"
    }
   ],
   "source": [
    "gs.cv_results_"
   ]
  },
  {
   "cell_type": "code",
   "execution_count": 36,
   "metadata": {},
   "outputs": [
    {
     "data": {
      "text/plain": [
       "0.9790209790209791"
      ]
     },
     "execution_count": 36,
     "metadata": {},
     "output_type": "execute_result"
    }
   ],
   "source": [
    "gs.score(X_test,y_test)"
   ]
  },
  {
   "cell_type": "markdown",
   "metadata": {},
   "source": [
    "### SVM "
   ]
  },
  {
   "cell_type": "code",
   "execution_count": 37,
   "metadata": {},
   "outputs": [],
   "source": [
    "from sklearn.svm import SVC"
   ]
  },
  {
   "cell_type": "code",
   "execution_count": 38,
   "metadata": {
    "collapsed": true
   },
   "outputs": [
    {
     "data": {
      "text/plain": [
       "SVC(C=1.0, break_ties=False, cache_size=200, class_weight=None, coef0=0.0,\n",
       "    decision_function_shape='ovr', degree=3, gamma='scale', kernel='rbf',\n",
       "    max_iter=-1, probability=False, random_state=None, shrinking=True,\n",
       "    tol=0.001, verbose=False)"
      ]
     },
     "execution_count": 38,
     "metadata": {},
     "output_type": "execute_result"
    }
   ],
   "source": [
    "svc = SVC()     \n",
    "svc.fit(X_train, y_train)"
   ]
  },
  {
   "cell_type": "code",
   "execution_count": 39,
   "metadata": {},
   "outputs": [
    {
     "data": {
      "text/plain": [
       "(0.903755868544601, 0.9370629370629371)"
      ]
     },
     "execution_count": 39,
     "metadata": {},
     "output_type": "execute_result"
    }
   ],
   "source": [
    "svc.score(X_train, y_train), svc.score(X_test,y_test)"
   ]
  },
  {
   "cell_type": "code",
   "execution_count": 40,
   "metadata": {},
   "outputs": [],
   "source": [
    "### 스케일에 민감 \n",
    "from sklearn.preprocessing import MinMaxScaler\n",
    "m = MinMaxScaler() \n",
    "X_train_scaled = m.fit_transform(X_train)\n",
    "X_test_scaled = m.transform(X_test)"
   ]
  },
  {
   "cell_type": "code",
   "execution_count": 41,
   "metadata": {},
   "outputs": [
    {
     "data": {
      "text/plain": [
       "(0.9835680751173709, 0.972027972027972)"
      ]
     },
     "execution_count": 41,
     "metadata": {},
     "output_type": "execute_result"
    }
   ],
   "source": [
    "svc = SVC()\n",
    "svc.fit(X_train_scaled, y_train)\n",
    "svc.score(X_train_scaled, y_train), svc.score(X_test_scaled, y_test)"
   ]
  },
  {
   "cell_type": "code",
   "execution_count": 43,
   "metadata": {},
   "outputs": [
    {
     "data": {
      "text/plain": [
       "(0.9835680751173709, 0.965034965034965)"
      ]
     },
     "execution_count": 43,
     "metadata": {},
     "output_type": "execute_result"
    }
   ],
   "source": [
    "svc = SVC(C=5, gamma=0.1)\n",
    "svc.fit(X_train_scaled, y_train)\n",
    "svc.score(X_train_scaled, y_train), svc.score(X_test_scaled, y_test)"
   ]
  },
  {
   "cell_type": "code",
   "execution_count": null,
   "metadata": {},
   "outputs": [],
   "source": []
  }
 ],
 "metadata": {
  "kernelspec": {
   "display_name": "Python 3",
   "language": "python",
   "name": "python3"
  },
  "language_info": {
   "codemirror_mode": {
    "name": "ipython",
    "version": 3
   },
   "file_extension": ".py",
   "mimetype": "text/x-python",
   "name": "python",
   "nbconvert_exporter": "python",
   "pygments_lexer": "ipython3",
   "version": "3.7.6"
  }
 },
 "nbformat": 4,
 "nbformat_minor": 4
}
